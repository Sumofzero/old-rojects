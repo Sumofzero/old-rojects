{
 "cells": [
  {
   "cell_type": "code",
   "execution_count": 19,
   "metadata": {
    "cellId": "sk84rya6aw3stvu6veyf",
    "id": "CoD4vw9DrzPN"
   },
   "outputs": [],
   "source": [
    "#!g1.1\n",
    "import json\n",
    "\n",
    "from keras.callbacks import ModelCheckpoint\n",
    "from keras.layers import (\n",
    "    Dense, Input, Flatten, Dropout,\n",
    "    Conv1D, MaxPooling1D, Embedding\n",
    ")\n",
    "from keras.models import load_model, Model\n",
    "from keras.utils import to_categorical\n",
    "\n",
    "from sklearn.metrics import classification_report\n",
    "\n",
    "import numpy as np\n",
    "import tensorflow as tf\n",
    "from tensorflow import keras\n",
    "\n",
    "import pandas as pd\n",
    "\n",
    "from tqdm.notebook import tqdm\n",
    "from ipywidgets import IntProgress\n",
    "from tqdm import tqdm"
   ]
  },
  {
   "cell_type": "code",
   "execution_count": 21,
   "metadata": {
    "cellId": "h66x5txo3bt8uzxlv62d",
    "id": "wW9826jW07H2"
   },
   "outputs": [],
   "source": [
    "#!g1.1\n",
    "import re\n",
    "\n",
    "def preprocess(text: str):\n",
    "    text1 = re.findall(r'[А-Я|A-Z|a-z|а-я]\\w+', text)\n",
    "    #text2 = re.findall(r'[А-Я|A-Z|a-z|а-я]\\w+[а-я|А-Я|A-Z|a-z]\\w+', text)\n",
    "    texts = text1\n",
    "    p = []\n",
    "    for x in texts:\n",
    "        if len(x)>0:\n",
    "            x = x.lower()\n",
    "            if x in ['ооо', 'зао', 'ао', 'магазин', 'сеть', 'магазинов', 'порц', 'гр', 'кг', 'шт', 'вес', 'л', 'мл']:\n",
    "                x = '0'\n",
    "            text = x\n",
    "            #text = text.lower()\n",
    "            text = re.sub(r'[\\.,]+', '', text)\n",
    "            text = re.sub(r'[0-9]+', '', text)\n",
    "            text = re.sub(r\"\\(.*\\)\", ' ', text)\n",
    "            text = re.sub(r\"[^\\w\\s]\", ' ', text)\n",
    "            text = re.sub(r'\\b\\w\\b', ' ', text)\n",
    "            if text != '':\n",
    "                p.append(text)\n",
    "    #text = ' '.join(text.split())\n",
    "    text = ''\n",
    "    for i, y in enumerate(p):\n",
    "        if i != len(p)-1:\n",
    "            text+=y+' '\n",
    "        else:\n",
    "            text+=y\n",
    "    return text"
   ]
  },
  {
   "cell_type": "code",
   "execution_count": null,
   "metadata": {
    "cellId": "blr60vvkz5jrti5soo23uk",
    "id": "IIRaA9NKu9x8"
   },
   "outputs": [],
   "source": [
    "data1 = pd.read_excel('Товары для обучения 1.xlsx', header=None, names=['Y', 'X', 'q', 'w'], sheet_name=None)"
   ]
  },
  {
   "cell_type": "code",
   "execution_count": null,
   "metadata": {
    "cellId": "4j128xl6rckjgn3u2f58lm",
    "id": "OWxr2jOXz24e"
   },
   "outputs": [],
   "source": [
    "keys = list(data1.keys())\n",
    "\n",
    "frames = [data1[key] for key in keys]\n",
    "\n",
    "data = pd.concat(frames, ignore_index=True)\n",
    "\n",
    "data.X = [x[1:-2] for x in data.X.values]\n",
    "\n",
    "data"
   ]
  },
  {
   "cell_type": "code",
   "execution_count": null,
   "metadata": {
    "cellId": "g68x22xspvhmcme7wygp8j",
    "id": "Zdf95Ud3xels"
   },
   "outputs": [],
   "source": [
    "data2 = pd.read_excel('Товары для обучения 2.xlsx', header=None, names=['Y', 'X', 'q', 'w'], sheet_name=None)\n",
    "\n",
    "keys = list(data2.keys())\n",
    "\n",
    "frames = [data2[key] for key in keys]\n",
    "\n",
    "res = pd.concat(frames, ignore_index=True)\n",
    "\n",
    "res.X = [x[1:-2] for x in res.X.values]\n",
    "\n",
    "res"
   ]
  },
  {
   "cell_type": "code",
   "execution_count": null,
   "metadata": {
    "cellId": "igk6w6m6ygy676nwb5p8",
    "id": "awe6-j85xeoV"
   },
   "outputs": [],
   "source": [
    "data2 = pd.read_excel('Товары для обучения 3.xlsx', header=None, names=['Y', 'X', 'q', 'w'], sheet_name=None)\n",
    "\n",
    "keys = list(data2.keys())\n",
    "\n",
    "frames = [data2[key] for key in keys]\n",
    "\n",
    "res2 = pd.concat(frames, ignore_index=True)\n",
    "\n",
    "res2.X = [x[1:-2] for x in res2.X.values]\n",
    "\n",
    "res2"
   ]
  },
  {
   "cell_type": "code",
   "execution_count": null,
   "metadata": {
    "cellId": "o1nlm7cyjhm7iwskuypbqs",
    "id": "5mfwRAPCu90s"
   },
   "outputs": [],
   "source": [
    "data2 = pd.read_excel('Товары для обучения 4.xlsx', header=None, names=['Y', 'X', 'q', 'w'], sheet_name=None)\n",
    "\n",
    "keys = list(data2.keys())\n",
    "\n",
    "frames = [data2[key] for key in keys]\n",
    "\n",
    "res4 = pd.concat(frames, ignore_index=True)\n",
    "\n",
    "res4.X = [x[1:-2] for x in res4.X.values]\n",
    "\n",
    "res4"
   ]
  },
  {
   "cell_type": "code",
   "execution_count": null,
   "metadata": {
    "cellId": "lfr7aw80l6zsojrnk62p",
    "id": "H1VYkegtu93s"
   },
   "outputs": [],
   "source": [
    "data2 = pd.read_excel('Товары для обучения 5.xlsx', header=None, names=['Y', 'X', 'q', 'w'], sheet_name=None)\n",
    "\n",
    "keys = list(data2.keys())\n",
    "\n",
    "frames = [data2[key] for key in keys]\n",
    "\n",
    "res5 = pd.concat(frames, ignore_index=True)\n",
    "\n",
    "res5.X = [x[1:-2] for x in res5.X.values]\n",
    "\n",
    "res5"
   ]
  },
  {
   "cell_type": "code",
   "execution_count": null,
   "metadata": {
    "cellId": "83fk2hp0hv9pv95xgm2dzr",
    "id": "ds64JzYEu96a"
   },
   "outputs": [],
   "source": [
    "data2 = pd.read_excel('Товары для обучения 6.xlsx', header=None, names=['Y', 'X', 'q', 'w'], sheet_name=None)\n",
    "\n",
    "keys = list(data2.keys())\n",
    "\n",
    "frames = [data2[key] for key in keys]\n",
    "\n",
    "res6 = pd.concat(frames, ignore_index=True)\n",
    "\n",
    "res6.X = [x[1:-2] for x in res6.X.values]\n",
    "\n",
    "res6"
   ]
  },
  {
   "cell_type": "code",
   "execution_count": null,
   "metadata": {
    "cellId": "593hcaz81lwisawe0avqbi",
    "id": "bB_2yljOu99j"
   },
   "outputs": [],
   "source": [
    "frames = [data, res, res2, res4, res5, res6]\n",
    "\n",
    "result = pd.concat(frames, ignore_index=True)\n",
    "\n",
    "result"
   ]
  },
  {
   "cell_type": "code",
   "execution_count": null,
   "metadata": {
    "cellId": "sxpjs59lhi98h2e7eaqg4",
    "id": "vyNsEvuHu9_f"
   },
   "outputs": [],
   "source": [
    "result.to_csv('categoryes_data.csv')"
   ]
  },
  {
   "cell_type": "code",
   "execution_count": 129,
   "metadata": {
    "cellId": "pnux5wk0hwd6aoszo27rot",
    "colab": {
     "base_uri": "https://localhost:8080/",
     "height": 419
    },
    "id": "Qsy8pBviiGuq",
    "outputId": "51804a70-97bf-414b-9933-94f28a78a3f5"
   },
   "outputs": [
    {
     "data": {
      "text/html": [
       "<div>\n",
       "<style scoped>\n",
       "    .dataframe tbody tr th:only-of-type {\n",
       "        vertical-align: middle;\n",
       "    }\n",
       "\n",
       "    .dataframe tbody tr th {\n",
       "        vertical-align: top;\n",
       "    }\n",
       "\n",
       "    .dataframe thead th {\n",
       "        text-align: right;\n",
       "    }\n",
       "</style>\n",
       "<table border=\"1\" class=\"dataframe\">\n",
       "  <thead>\n",
       "    <tr style=\"text-align: right;\">\n",
       "      <th></th>\n",
       "      <th>Y</th>\n",
       "      <th>X</th>\n",
       "      <th>q</th>\n",
       "      <th>w</th>\n",
       "    </tr>\n",
       "  </thead>\n",
       "  <tbody>\n",
       "    <tr>\n",
       "      <th>0</th>\n",
       "      <td>Автотовары</td>\n",
       "      <td>набор ремонт бескамерный шина</td>\n",
       "      <td>123197</td>\n",
       "      <td>{30453}</td>\n",
       "    </tr>\n",
       "    <tr>\n",
       "      <th>1</th>\n",
       "      <td>Автотовары</td>\n",
       "      <td>кондиционер металл синтетический второй поколение</td>\n",
       "      <td>123219</td>\n",
       "      <td>{30420}</td>\n",
       "    </tr>\n",
       "    <tr>\n",
       "      <th>2</th>\n",
       "      <td>Автотовары</td>\n",
       "      <td>синтетический кондиционер металл поколение</td>\n",
       "      <td>123220</td>\n",
       "      <td>{30420}</td>\n",
       "    </tr>\n",
       "    <tr>\n",
       "      <th>3</th>\n",
       "      <td>Автотовары</td>\n",
       "      <td>очиститель инжектор быстрый действие</td>\n",
       "      <td>123230</td>\n",
       "      <td>{30406}</td>\n",
       "    </tr>\n",
       "    <tr>\n",
       "      <th>4</th>\n",
       "      <td>Автотовары</td>\n",
       "      <td>быстрый запуск</td>\n",
       "      <td>123238</td>\n",
       "      <td>{30407}</td>\n",
       "    </tr>\n",
       "    <tr>\n",
       "      <th>...</th>\n",
       "      <td>...</td>\n",
       "      <td>...</td>\n",
       "      <td>...</td>\n",
       "      <td>...</td>\n",
       "    </tr>\n",
       "    <tr>\n",
       "      <th>3732743</th>\n",
       "      <td>Товары для дома</td>\n",
       "      <td>сковорода бриллиант литой антипригарный покрыт...</td>\n",
       "      <td>29390292</td>\n",
       "      <td>{22083}</td>\n",
       "    </tr>\n",
       "    <tr>\n",
       "      <th>3732744</th>\n",
       "      <td>Товары для дома</td>\n",
       "      <td>картина арт</td>\n",
       "      <td>29390319</td>\n",
       "      <td>{21705, 2778}</td>\n",
       "    </tr>\n",
       "    <tr>\n",
       "      <th>3732745</th>\n",
       "      <td>Товары для дома</td>\n",
       "      <td>картина арт</td>\n",
       "      <td>29390367</td>\n",
       "      <td>{21705, 2778}</td>\n",
       "    </tr>\n",
       "    <tr>\n",
       "      <th>3732746</th>\n",
       "      <td>Товары для дома</td>\n",
       "      <td>зеркало ланс</td>\n",
       "      <td>29390370</td>\n",
       "      <td>{21750}</td>\n",
       "    </tr>\n",
       "    <tr>\n",
       "      <th>3732747</th>\n",
       "      <td>Товары для дома</td>\n",
       "      <td>шкаф напольный ланс</td>\n",
       "      <td>29390371</td>\n",
       "      <td>{21750}</td>\n",
       "    </tr>\n",
       "  </tbody>\n",
       "</table>\n",
       "<p>3732748 rows × 4 columns</p>\n",
       "</div>"
      ],
      "text/plain": [
       "                       Y                                                  X  \\\n",
       "0             Автотовары                      набор ремонт бескамерный шина   \n",
       "1             Автотовары  кондиционер металл синтетический второй поколение   \n",
       "2             Автотовары         синтетический кондиционер металл поколение   \n",
       "3             Автотовары               очиститель инжектор быстрый действие   \n",
       "4             Автотовары                                     быстрый запуск   \n",
       "...                  ...                                                ...   \n",
       "3732743  Товары для дома  сковорода бриллиант литой антипригарный покрыт...   \n",
       "3732744  Товары для дома                                        картина арт   \n",
       "3732745  Товары для дома                                        картина арт   \n",
       "3732746  Товары для дома                                       зеркало ланс   \n",
       "3732747  Товары для дома                                шкаф напольный ланс   \n",
       "\n",
       "                q              w  \n",
       "0          123197        {30453}  \n",
       "1          123219        {30420}  \n",
       "2          123220        {30420}  \n",
       "3          123230        {30406}  \n",
       "4          123238        {30407}  \n",
       "...           ...            ...  \n",
       "3732743  29390292        {22083}  \n",
       "3732744  29390319  {21705, 2778}  \n",
       "3732745  29390367  {21705, 2778}  \n",
       "3732746  29390370        {21750}  \n",
       "3732747  29390371        {21750}  \n",
       "\n",
       "[3732748 rows x 4 columns]"
      ]
     },
     "metadata": {},
     "output_type": "display_data"
    }
   ],
   "source": [
    "#!g1.1\n",
    "result = pd.read_csv('result.csv').drop(columns=['Unnamed: 0'])\n",
    "result"
   ]
  },
  {
   "cell_type": "code",
   "execution_count": 24,
   "metadata": {
    "cellId": "g6ehp36si6wribdp158doo",
    "colab": {
     "base_uri": "https://localhost:8080/",
     "height": 419
    },
    "id": "9Tr3JomMu247",
    "outputId": "09dd9eb7-84f6-4436-c571-c1a526a99251"
   },
   "outputs": [
    {
     "data": {
      "text/html": [
       "<div>\n",
       "<style scoped>\n",
       "    .dataframe tbody tr th:only-of-type {\n",
       "        vertical-align: middle;\n",
       "    }\n",
       "\n",
       "    .dataframe tbody tr th {\n",
       "        vertical-align: top;\n",
       "    }\n",
       "\n",
       "    .dataframe thead th {\n",
       "        text-align: right;\n",
       "    }\n",
       "</style>\n",
       "<table border=\"1\" class=\"dataframe\">\n",
       "  <thead>\n",
       "    <tr style=\"text-align: right;\">\n",
       "      <th></th>\n",
       "      <th>Y</th>\n",
       "      <th>X</th>\n",
       "      <th>q</th>\n",
       "      <th>w</th>\n",
       "      <th>classes</th>\n",
       "    </tr>\n",
       "  </thead>\n",
       "  <tbody>\n",
       "    <tr>\n",
       "      <th>0</th>\n",
       "      <td>Автотовары</td>\n",
       "      <td>'Tesco Finest Mango Each'</td>\n",
       "      <td>29532</td>\n",
       "      <td>{30353}</td>\n",
       "      <td>0</td>\n",
       "    </tr>\n",
       "    <tr>\n",
       "      <th>1</th>\n",
       "      <td>Автотовары</td>\n",
       "      <td>'Tesco Traditional Sliced Runner Beans 185g'</td>\n",
       "      <td>29533</td>\n",
       "      <td>{30353}</td>\n",
       "      <td>0</td>\n",
       "    </tr>\n",
       "    <tr>\n",
       "      <th>2</th>\n",
       "      <td>Автотовары</td>\n",
       "      <td>'Tesco Organic Red Or Black Grapes 400g'</td>\n",
       "      <td>29555</td>\n",
       "      <td>{30353}</td>\n",
       "      <td>0</td>\n",
       "    </tr>\n",
       "    <tr>\n",
       "      <th>3</th>\n",
       "      <td>Автотовары</td>\n",
       "      <td>'Tesco Kiwi Fruits 6 Pack'</td>\n",
       "      <td>29556</td>\n",
       "      <td>{30353}</td>\n",
       "      <td>0</td>\n",
       "    </tr>\n",
       "    <tr>\n",
       "      <th>4</th>\n",
       "      <td>Автотовары</td>\n",
       "      <td>'Tesco Organic Spinach 200g'</td>\n",
       "      <td>29557</td>\n",
       "      <td>{30353}</td>\n",
       "      <td>0</td>\n",
       "    </tr>\n",
       "    <tr>\n",
       "      <th>...</th>\n",
       "      <td>...</td>\n",
       "      <td>...</td>\n",
       "      <td>...</td>\n",
       "      <td>...</td>\n",
       "      <td>...</td>\n",
       "    </tr>\n",
       "    <tr>\n",
       "      <th>3932336</th>\n",
       "      <td>Товары для дома</td>\n",
       "      <td>'сковорода-бриллиант литая 26см с антипригарны...</td>\n",
       "      <td>29390292</td>\n",
       "      <td>{22083}</td>\n",
       "      <td>32</td>\n",
       "    </tr>\n",
       "    <tr>\n",
       "      <th>3932337</th>\n",
       "      <td>Товары для дома</td>\n",
       "      <td>'картина арт. sa-3007 30х40 см.'</td>\n",
       "      <td>29390319</td>\n",
       "      <td>{21705, 2778}</td>\n",
       "      <td>32</td>\n",
       "    </tr>\n",
       "    <tr>\n",
       "      <th>3932338</th>\n",
       "      <td>Товары для дома</td>\n",
       "      <td>'картина арт. sa-3006 30х40 см.'</td>\n",
       "      <td>29390367</td>\n",
       "      <td>{21705, 2778}</td>\n",
       "      <td>32</td>\n",
       "    </tr>\n",
       "    <tr>\n",
       "      <th>3932339</th>\n",
       "      <td>Товары для дома</td>\n",
       "      <td>'Зеркало Ланс 60'</td>\n",
       "      <td>29390370</td>\n",
       "      <td>{21750}</td>\n",
       "      <td>32</td>\n",
       "    </tr>\n",
       "    <tr>\n",
       "      <th>3932340</th>\n",
       "      <td>Товары для дома</td>\n",
       "      <td>'Шкаф напольный Ланс 60'</td>\n",
       "      <td>29390371</td>\n",
       "      <td>{21750}</td>\n",
       "      <td>32</td>\n",
       "    </tr>\n",
       "  </tbody>\n",
       "</table>\n",
       "<p>3932341 rows × 5 columns</p>\n",
       "</div>"
      ],
      "text/plain": [
       "                       Y                                                  X  \\\n",
       "0             Автотовары                          'Tesco Finest Mango Each'   \n",
       "1             Автотовары       'Tesco Traditional Sliced Runner Beans 185g'   \n",
       "2             Автотовары           'Tesco Organic Red Or Black Grapes 400g'   \n",
       "3             Автотовары                         'Tesco Kiwi Fruits 6 Pack'   \n",
       "4             Автотовары                       'Tesco Organic Spinach 200g'   \n",
       "...                  ...                                                ...   \n",
       "3932336  Товары для дома  'сковорода-бриллиант литая 26см с антипригарны...   \n",
       "3932337  Товары для дома                   'картина арт. sa-3007 30х40 см.'   \n",
       "3932338  Товары для дома                   'картина арт. sa-3006 30х40 см.'   \n",
       "3932339  Товары для дома                                  'Зеркало Ланс 60'   \n",
       "3932340  Товары для дома                           'Шкаф напольный Ланс 60'   \n",
       "\n",
       "                q              w  classes  \n",
       "0           29532        {30353}        0  \n",
       "1           29533        {30353}        0  \n",
       "2           29555        {30353}        0  \n",
       "3           29556        {30353}        0  \n",
       "4           29557        {30353}        0  \n",
       "...           ...            ...      ...  \n",
       "3932336  29390292        {22083}       32  \n",
       "3932337  29390319  {21705, 2778}       32  \n",
       "3932338  29390367  {21705, 2778}       32  \n",
       "3932339  29390370        {21750}       32  \n",
       "3932340  29390371        {21750}       32  \n",
       "\n",
       "[3932341 rows x 5 columns]"
      ]
     },
     "metadata": {},
     "output_type": "display_data"
    }
   ],
   "source": [
    "#!g1.1\n",
    "classes = list(range(len(result.Y.unique())))\n",
    "classes = dict(zip(result.Y.unique(), classes))\n",
    "result['classes'] = [classes[x] for x in result.Y.values]\n",
    "result"
   ]
  },
  {
   "cell_type": "code",
   "execution_count": 25,
   "metadata": {
    "cellId": "w54hgtw81wgibkh1f3c5pm",
    "colab": {
     "base_uri": "https://localhost:8080/",
     "height": 419
    },
    "id": "W2q9vxtb7yHq",
    "outputId": "4a7af77a-3cd1-44db-8c11-d53101780beb"
   },
   "outputs": [
    {
     "data": {
      "text/html": [
       "<div>\n",
       "<style scoped>\n",
       "    .dataframe tbody tr th:only-of-type {\n",
       "        vertical-align: middle;\n",
       "    }\n",
       "\n",
       "    .dataframe tbody tr th {\n",
       "        vertical-align: top;\n",
       "    }\n",
       "\n",
       "    .dataframe thead th {\n",
       "        text-align: right;\n",
       "    }\n",
       "</style>\n",
       "<table border=\"1\" class=\"dataframe\">\n",
       "  <thead>\n",
       "    <tr style=\"text-align: right;\">\n",
       "      <th></th>\n",
       "      <th>Y</th>\n",
       "      <th>X</th>\n",
       "      <th>q</th>\n",
       "      <th>w</th>\n",
       "      <th>classes</th>\n",
       "    </tr>\n",
       "  </thead>\n",
       "  <tbody>\n",
       "    <tr>\n",
       "      <th>0</th>\n",
       "      <td>Автотовары</td>\n",
       "      <td>tesco finest mango each</td>\n",
       "      <td>29532</td>\n",
       "      <td>{30353}</td>\n",
       "      <td>0</td>\n",
       "    </tr>\n",
       "    <tr>\n",
       "      <th>1</th>\n",
       "      <td>Автотовары</td>\n",
       "      <td>tesco traditional sliced runner beans</td>\n",
       "      <td>29533</td>\n",
       "      <td>{30353}</td>\n",
       "      <td>0</td>\n",
       "    </tr>\n",
       "    <tr>\n",
       "      <th>2</th>\n",
       "      <td>Автотовары</td>\n",
       "      <td>tesco organic red or black grapes</td>\n",
       "      <td>29555</td>\n",
       "      <td>{30353}</td>\n",
       "      <td>0</td>\n",
       "    </tr>\n",
       "    <tr>\n",
       "      <th>3</th>\n",
       "      <td>Автотовары</td>\n",
       "      <td>tesco kiwi fruits pack</td>\n",
       "      <td>29556</td>\n",
       "      <td>{30353}</td>\n",
       "      <td>0</td>\n",
       "    </tr>\n",
       "    <tr>\n",
       "      <th>4</th>\n",
       "      <td>Автотовары</td>\n",
       "      <td>tesco organic spinach</td>\n",
       "      <td>29557</td>\n",
       "      <td>{30353}</td>\n",
       "      <td>0</td>\n",
       "    </tr>\n",
       "    <tr>\n",
       "      <th>...</th>\n",
       "      <td>...</td>\n",
       "      <td>...</td>\n",
       "      <td>...</td>\n",
       "      <td>...</td>\n",
       "      <td>...</td>\n",
       "    </tr>\n",
       "    <tr>\n",
       "      <th>3932336</th>\n",
       "      <td>Товары для дома</td>\n",
       "      <td>сковорода бриллиант литая см антипригарным пок...</td>\n",
       "      <td>29390292</td>\n",
       "      <td>{22083}</td>\n",
       "      <td>32</td>\n",
       "    </tr>\n",
       "    <tr>\n",
       "      <th>3932337</th>\n",
       "      <td>Товары для дома</td>\n",
       "      <td>картина арт sa   см</td>\n",
       "      <td>29390319</td>\n",
       "      <td>{21705, 2778}</td>\n",
       "      <td>32</td>\n",
       "    </tr>\n",
       "    <tr>\n",
       "      <th>3932338</th>\n",
       "      <td>Товары для дома</td>\n",
       "      <td>картина арт sa   см</td>\n",
       "      <td>29390367</td>\n",
       "      <td>{21705, 2778}</td>\n",
       "      <td>32</td>\n",
       "    </tr>\n",
       "    <tr>\n",
       "      <th>3932339</th>\n",
       "      <td>Товары для дома</td>\n",
       "      <td>зеркало ланс</td>\n",
       "      <td>29390370</td>\n",
       "      <td>{21750}</td>\n",
       "      <td>32</td>\n",
       "    </tr>\n",
       "    <tr>\n",
       "      <th>3932340</th>\n",
       "      <td>Товары для дома</td>\n",
       "      <td>шкаф напольный ланс</td>\n",
       "      <td>29390371</td>\n",
       "      <td>{21750}</td>\n",
       "      <td>32</td>\n",
       "    </tr>\n",
       "  </tbody>\n",
       "</table>\n",
       "<p>3932341 rows × 5 columns</p>\n",
       "</div>"
      ],
      "text/plain": [
       "                       Y                                                  X  \\\n",
       "0             Автотовары                            tesco finest mango each   \n",
       "1             Автотовары              tesco traditional sliced runner beans   \n",
       "2             Автотовары                  tesco organic red or black grapes   \n",
       "3             Автотовары                             tesco kiwi fruits pack   \n",
       "4             Автотовары                              tesco organic spinach   \n",
       "...                  ...                                                ...   \n",
       "3932336  Товары для дома  сковорода бриллиант литая см антипригарным пок...   \n",
       "3932337  Товары для дома                                картина арт sa   см   \n",
       "3932338  Товары для дома                                картина арт sa   см   \n",
       "3932339  Товары для дома                                       зеркало ланс   \n",
       "3932340  Товары для дома                                шкаф напольный ланс   \n",
       "\n",
       "                q              w  classes  \n",
       "0           29532        {30353}        0  \n",
       "1           29533        {30353}        0  \n",
       "2           29555        {30353}        0  \n",
       "3           29556        {30353}        0  \n",
       "4           29557        {30353}        0  \n",
       "...           ...            ...      ...  \n",
       "3932336  29390292        {22083}       32  \n",
       "3932337  29390319  {21705, 2778}       32  \n",
       "3932338  29390367  {21705, 2778}       32  \n",
       "3932339  29390370        {21750}       32  \n",
       "3932340  29390371        {21750}       32  \n",
       "\n",
       "[3932341 rows x 5 columns]"
      ]
     },
     "metadata": {},
     "output_type": "display_data"
    }
   ],
   "source": [
    "#!g1.1\n",
    "result.X = [preprocess(x) for x in result.X.values]\n",
    "result"
   ]
  },
  {
   "cell_type": "code",
   "execution_count": null,
   "metadata": {
    "cellId": "b7t2ae7nnon5m0poiw9zm",
    "colab": {
     "base_uri": "https://localhost:8080/"
    },
    "id": "ckn7lgVs232u",
    "outputId": "ddd30ad5-8d33-43af-fba3-49d110174db1"
   },
   "outputs": [],
   "source": [
    "max([len(x.split(' ')) for x in result.X.values])"
   ]
  },
  {
   "cell_type": "code",
   "execution_count": null,
   "metadata": {
    "cellId": "1aktcz9lqmdnkqnqh8s2yl",
    "id": "oBEUpP2m36qN"
   },
   "outputs": [],
   "source": [
    "from tensorflow.keras.layers.experimental.preprocessing import TextVectorization\n",
    "\n",
    "vectorizer = TextVectorization(max_tokens=3932341, output_sequence_length=131)\n",
    "text_ds = tf.data.Dataset.from_tensor_slices(result.X).batch(128)\n",
    "vectorizer.adapt(text_ds) "
   ]
  },
  {
   "cell_type": "code",
   "execution_count": null,
   "metadata": {
    "cellId": "zd6opvnktml7amiz2u5h93",
    "colab": {
     "base_uri": "https://localhost:8080/"
    },
    "id": "16Hzg0xs5Z3d",
    "outputId": "ba4b0be1-21c9-4218-c561-989f96a3debb"
   },
   "outputs": [],
   "source": [
    "vectorizer.get_vocabulary()[:10]"
   ]
  },
  {
   "cell_type": "code",
   "execution_count": 45,
   "metadata": {
    "cellId": "effdeapgozehbv2ytor99",
    "id": "3OARaoHwk8Cj"
   },
   "outputs": [
    {
     "data": {
      "text/plain": [
       "<AxesSubplot:>"
      ]
     },
     "metadata": {},
     "output_type": "display_data"
    },
    {
     "data": {
      "image/png": "[encoded data removed]",
      "text/plain": [
       "<Figure size 864x720 with 1 Axes>"
      ]
     },
     "metadata": {
      "needs_background": "light"
     },
     "output_type": "display_data"
    }
   ],
   "source": [
    "#!g1.1\n",
    "result.classes.hist(figsize=(12,10), bins=33)"
   ]
  },
  {
   "cell_type": "code",
   "execution_count": 130,
   "metadata": {
    "cellId": "dqglfzilarvzvcwg8wa2",
    "id": "Z5gk1beZk8F2"
   },
   "outputs": [],
   "source": [
    "#!g1.1\n",
    "eating = ['Алкоголь', 'Бакалея', 'Вода, соки, напитки', \n",
    "          'Готовые блюда и полуфабрикаты', 'Детское питание', \n",
    "          'Диетическое питание(полезное, спортивное)', 'Консервация', 'Молочные продукты', \n",
    "          'Овощи, грибы, фрукты, ягоды, зелень', 'Соусы и приправы',   'Сыр, масло, яйца',\n",
    "          'Кондитерские изделия', 'Мясная продукция', 'Рыба и морепродукты', 'Чай, кофе, какао',\n",
    "          'Хлеб']"
   ]
  },
  {
   "cell_type": "code",
   "execution_count": 131,
   "metadata": {
    "cellId": "p7pcnlndbigk63cbpj884e",
    "id": "rFPxUrKLk8J_"
   },
   "outputs": [
    {
     "data": {
      "text/plain": [
       "[0, 1, 2, 3, 4, 5, 6, 7, 8, 9, 10, 11, 12, 13, 14, 15, 16]"
      ]
     },
     "metadata": {},
     "output_type": "display_data"
    }
   ],
   "source": [
    "#!g1.1\n",
    "list(range(len(result.Y.unique())-len(eating)))"
   ]
  },
  {
   "cell_type": "code",
   "execution_count": 132,
   "metadata": {
    "cellId": "w1zopdb9u9kfqqeafe2g5l"
   },
   "outputs": [
    {
     "data": {
      "text/plain": [
       "{'Автотовары': 1,\n",
       " 'Алкоголь': 0,\n",
       " 'Бакалея': 0,\n",
       " 'Бытовая техника': 2,\n",
       " 'Вода, соки, напитки': 0,\n",
       " 'Готовые блюда и полуфабрикаты': 0,\n",
       " 'Дача, сад, огород': 3,\n",
       " 'Детское питание': 0,\n",
       " 'Диетическое питание(полезное, спортивное)': 0,\n",
       " 'Зоотовары': 4,\n",
       " 'Канцелярия': 5,\n",
       " 'Консервация': 0,\n",
       " 'Молочные продукты': 0,\n",
       " 'Овощи, грибы, фрукты, ягоды, зелень': 0,\n",
       " 'Соусы и приправы': 0,\n",
       " 'Сыр, масло, яйца': 0,\n",
       " 'Табак': 6,\n",
       " 'Товары для взрослых': 7,\n",
       " 'Кондитерские изделия': 0,\n",
       " 'Косметика': 8,\n",
       " 'Мясная продукция': 0,\n",
       " 'Рыба и морепродукты': 0,\n",
       " 'Товары для здоровья': 9,\n",
       " 'Товары для спорта и отдыха': 10,\n",
       " 'Электроника': 11,\n",
       " 'Одежда и обувь': 12,\n",
       " 'Чай, кофе, какао': 0,\n",
       " 'Хобби': 13,\n",
       " 'Упаковка': 14,\n",
       " 'Стройматериалы(и ремонт?)': 15,\n",
       " 'Товары для детей(и мам?)': 16,\n",
       " 'Хлеб': 0,\n",
       " 'Товары для дома': 17}"
      ]
     },
     "metadata": {},
     "output_type": "display_data"
    }
   ],
   "source": [
    "#!g1.1\n",
    "rang = list(range(len(result.Y.unique())-len(eating)))\n",
    "classes = {}\n",
    "i = 0\n",
    "for x in result.Y.unique():\n",
    "    if x in eating:\n",
    "        classes[x] = 0\n",
    "    else:\n",
    "        i+=1\n",
    "        classes[x] = i\n",
    "classes"
   ]
  },
  {
   "cell_type": "code",
   "execution_count": 133,
   "metadata": {
    "cellId": "2h6b1mdjwq9dxovig6c42b"
   },
   "outputs": [
    {
     "data": {
      "text/html": [
       "<div>\n",
       "<style scoped>\n",
       "    .dataframe tbody tr th:only-of-type {\n",
       "        vertical-align: middle;\n",
       "    }\n",
       "\n",
       "    .dataframe tbody tr th {\n",
       "        vertical-align: top;\n",
       "    }\n",
       "\n",
       "    .dataframe thead th {\n",
       "        text-align: right;\n",
       "    }\n",
       "</style>\n",
       "<table border=\"1\" class=\"dataframe\">\n",
       "  <thead>\n",
       "    <tr style=\"text-align: right;\">\n",
       "      <th></th>\n",
       "      <th>Y</th>\n",
       "      <th>X</th>\n",
       "      <th>q</th>\n",
       "      <th>w</th>\n",
       "      <th>classes</th>\n",
       "    </tr>\n",
       "  </thead>\n",
       "  <tbody>\n",
       "    <tr>\n",
       "      <th>0</th>\n",
       "      <td>Автотовары</td>\n",
       "      <td>набор ремонт бескамерный шина</td>\n",
       "      <td>123197</td>\n",
       "      <td>{30453}</td>\n",
       "      <td>1</td>\n",
       "    </tr>\n",
       "    <tr>\n",
       "      <th>1</th>\n",
       "      <td>Автотовары</td>\n",
       "      <td>кондиционер металл синтетический второй поколение</td>\n",
       "      <td>123219</td>\n",
       "      <td>{30420}</td>\n",
       "      <td>1</td>\n",
       "    </tr>\n",
       "    <tr>\n",
       "      <th>2</th>\n",
       "      <td>Автотовары</td>\n",
       "      <td>синтетический кондиционер металл поколение</td>\n",
       "      <td>123220</td>\n",
       "      <td>{30420}</td>\n",
       "      <td>1</td>\n",
       "    </tr>\n",
       "    <tr>\n",
       "      <th>3</th>\n",
       "      <td>Автотовары</td>\n",
       "      <td>очиститель инжектор быстрый действие</td>\n",
       "      <td>123230</td>\n",
       "      <td>{30406}</td>\n",
       "      <td>1</td>\n",
       "    </tr>\n",
       "    <tr>\n",
       "      <th>4</th>\n",
       "      <td>Автотовары</td>\n",
       "      <td>быстрый запуск</td>\n",
       "      <td>123238</td>\n",
       "      <td>{30407}</td>\n",
       "      <td>1</td>\n",
       "    </tr>\n",
       "    <tr>\n",
       "      <th>...</th>\n",
       "      <td>...</td>\n",
       "      <td>...</td>\n",
       "      <td>...</td>\n",
       "      <td>...</td>\n",
       "      <td>...</td>\n",
       "    </tr>\n",
       "    <tr>\n",
       "      <th>3732743</th>\n",
       "      <td>Товары для дома</td>\n",
       "      <td>сковорода бриллиант литой антипригарный покрыт...</td>\n",
       "      <td>29390292</td>\n",
       "      <td>{22083}</td>\n",
       "      <td>17</td>\n",
       "    </tr>\n",
       "    <tr>\n",
       "      <th>3732744</th>\n",
       "      <td>Товары для дома</td>\n",
       "      <td>картина арт</td>\n",
       "      <td>29390319</td>\n",
       "      <td>{21705, 2778}</td>\n",
       "      <td>17</td>\n",
       "    </tr>\n",
       "    <tr>\n",
       "      <th>3732745</th>\n",
       "      <td>Товары для дома</td>\n",
       "      <td>картина арт</td>\n",
       "      <td>29390367</td>\n",
       "      <td>{21705, 2778}</td>\n",
       "      <td>17</td>\n",
       "    </tr>\n",
       "    <tr>\n",
       "      <th>3732746</th>\n",
       "      <td>Товары для дома</td>\n",
       "      <td>зеркало ланс</td>\n",
       "      <td>29390370</td>\n",
       "      <td>{21750}</td>\n",
       "      <td>17</td>\n",
       "    </tr>\n",
       "    <tr>\n",
       "      <th>3732747</th>\n",
       "      <td>Товары для дома</td>\n",
       "      <td>шкаф напольный ланс</td>\n",
       "      <td>29390371</td>\n",
       "      <td>{21750}</td>\n",
       "      <td>17</td>\n",
       "    </tr>\n",
       "  </tbody>\n",
       "</table>\n",
       "<p>3732748 rows × 5 columns</p>\n",
       "</div>"
      ],
      "text/plain": [
       "                       Y                                                  X  \\\n",
       "0             Автотовары                      набор ремонт бескамерный шина   \n",
       "1             Автотовары  кондиционер металл синтетический второй поколение   \n",
       "2             Автотовары         синтетический кондиционер металл поколение   \n",
       "3             Автотовары               очиститель инжектор быстрый действие   \n",
       "4             Автотовары                                     быстрый запуск   \n",
       "...                  ...                                                ...   \n",
       "3732743  Товары для дома  сковорода бриллиант литой антипригарный покрыт...   \n",
       "3732744  Товары для дома                                        картина арт   \n",
       "3732745  Товары для дома                                        картина арт   \n",
       "3732746  Товары для дома                                       зеркало ланс   \n",
       "3732747  Товары для дома                                шкаф напольный ланс   \n",
       "\n",
       "                q              w  classes  \n",
       "0          123197        {30453}        1  \n",
       "1          123219        {30420}        1  \n",
       "2          123220        {30420}        1  \n",
       "3          123230        {30406}        1  \n",
       "4          123238        {30407}        1  \n",
       "...           ...            ...      ...  \n",
       "3732743  29390292        {22083}       17  \n",
       "3732744  29390319  {21705, 2778}       17  \n",
       "3732745  29390367  {21705, 2778}       17  \n",
       "3732746  29390370        {21750}       17  \n",
       "3732747  29390371        {21750}       17  \n",
       "\n",
       "[3732748 rows x 5 columns]"
      ]
     },
     "metadata": {},
     "output_type": "display_data"
    }
   ],
   "source": [
    "#!g1.1\n",
    "result['classes'] = [classes[x] for x in result.Y.values]\n",
    "result"
   ]
  },
  {
   "cell_type": "code",
   "execution_count": 113,
   "metadata": {
    "cellId": "imo36szyfnjeixmhiaw9c"
   },
   "outputs": [
    {
     "data": {
      "text/html": [
       "<div>\n",
       "<style scoped>\n",
       "    .dataframe tbody tr th:only-of-type {\n",
       "        vertical-align: middle;\n",
       "    }\n",
       "\n",
       "    .dataframe tbody tr th {\n",
       "        vertical-align: top;\n",
       "    }\n",
       "\n",
       "    .dataframe thead th {\n",
       "        text-align: right;\n",
       "    }\n",
       "</style>\n",
       "<table border=\"1\" class=\"dataframe\">\n",
       "  <thead>\n",
       "    <tr style=\"text-align: right;\">\n",
       "      <th></th>\n",
       "      <th>Y</th>\n",
       "      <th>X</th>\n",
       "      <th>q</th>\n",
       "      <th>w</th>\n",
       "      <th>classes</th>\n",
       "    </tr>\n",
       "  </thead>\n",
       "  <tbody>\n",
       "    <tr>\n",
       "      <th>1745933</th>\n",
       "      <td>Одежда и обувь</td>\n",
       "      <td>трусы женские танга dt цвет blue blue</td>\n",
       "      <td>1451451</td>\n",
       "      <td>{21873}</td>\n",
       "      <td>12</td>\n",
       "    </tr>\n",
       "    <tr>\n",
       "      <th>3680420</th>\n",
       "      <td>Товары для дома</td>\n",
       "      <td>hn__x</td>\n",
       "      <td>1549998</td>\n",
       "      <td>{2817, 21703}</td>\n",
       "      <td>17</td>\n",
       "    </tr>\n",
       "    <tr>\n",
       "      <th>3782096</th>\n",
       "      <td>Товары для дома</td>\n",
       "      <td>мини ролеты св желтый</td>\n",
       "      <td>5418891</td>\n",
       "      <td>{2801, 21701}</td>\n",
       "      <td>17</td>\n",
       "    </tr>\n",
       "    <tr>\n",
       "      <th>786940</th>\n",
       "      <td>Овощи, грибы, фрукты, ягоды, зелень</td>\n",
       "      <td>орехи миндаль</td>\n",
       "      <td>23744807</td>\n",
       "      <td>{4700}</td>\n",
       "      <td>0</td>\n",
       "    </tr>\n",
       "    <tr>\n",
       "      <th>871138</th>\n",
       "      <td>Кондитерские изделия</td>\n",
       "      <td>мармелад жевательный длинная змея со вкусом кл...</td>\n",
       "      <td>2251915</td>\n",
       "      <td>{21922, 1398}</td>\n",
       "      <td>0</td>\n",
       "    </tr>\n",
       "    <tr>\n",
       "      <th>...</th>\n",
       "      <td>...</td>\n",
       "      <td>...</td>\n",
       "      <td>...</td>\n",
       "      <td>...</td>\n",
       "      <td>...</td>\n",
       "    </tr>\n",
       "    <tr>\n",
       "      <th>851995</th>\n",
       "      <td>Кондитерские изделия</td>\n",
       "      <td>печенье сахарное московское</td>\n",
       "      <td>2054557</td>\n",
       "      <td>{21922, 1398}</td>\n",
       "      <td>0</td>\n",
       "    </tr>\n",
       "    <tr>\n",
       "      <th>1300784</th>\n",
       "      <td>Мясная продукция</td>\n",
       "      <td>полуфабрикат заморож хинкали сухумские кат</td>\n",
       "      <td>8998407</td>\n",
       "      <td>{1777}</td>\n",
       "      <td>0</td>\n",
       "    </tr>\n",
       "    <tr>\n",
       "      <th>183558</th>\n",
       "      <td>Бакалея</td>\n",
       "      <td>уксус бальзамический яблоком</td>\n",
       "      <td>2328853</td>\n",
       "      <td>{4195}</td>\n",
       "      <td>0</td>\n",
       "    </tr>\n",
       "    <tr>\n",
       "      <th>1461147</th>\n",
       "      <td>Товары для здоровья</td>\n",
       "      <td>эрмиталь капсулы ед</td>\n",
       "      <td>8109703</td>\n",
       "      <td>{39467}</td>\n",
       "      <td>9</td>\n",
       "    </tr>\n",
       "    <tr>\n",
       "      <th>1390741</th>\n",
       "      <td>Рыба и морепродукты</td>\n",
       "      <td>сельдь сырном соусе филе кусочки</td>\n",
       "      <td>4683061</td>\n",
       "      <td>{21940, 1636}</td>\n",
       "      <td>0</td>\n",
       "    </tr>\n",
       "  </tbody>\n",
       "</table>\n",
       "<p>1966170 rows × 5 columns</p>\n",
       "</div>"
      ],
      "text/plain": [
       "                                           Y  \\\n",
       "1745933                       Одежда и обувь   \n",
       "3680420                      Товары для дома   \n",
       "3782096                      Товары для дома   \n",
       "786940   Овощи, грибы, фрукты, ягоды, зелень   \n",
       "871138                  Кондитерские изделия   \n",
       "...                                      ...   \n",
       "851995                  Кондитерские изделия   \n",
       "1300784                     Мясная продукция   \n",
       "183558                               Бакалея   \n",
       "1461147                  Товары для здоровья   \n",
       "1390741                  Рыба и морепродукты   \n",
       "\n",
       "                                                         X         q  \\\n",
       "1745933              трусы женские танга dt цвет blue blue   1451451   \n",
       "3680420                                              hn__x   1549998   \n",
       "3782096                              мини ролеты св желтый   5418891   \n",
       "786940                                       орехи миндаль  23744807   \n",
       "871138   мармелад жевательный длинная змея со вкусом кл...   2251915   \n",
       "...                                                    ...       ...   \n",
       "851995                         печенье сахарное московское   2054557   \n",
       "1300784         полуфабрикат заморож хинкали сухумские кат   8998407   \n",
       "183558                        уксус бальзамический яблоком   2328853   \n",
       "1461147                                эрмиталь капсулы ед   8109703   \n",
       "1390741                   сельдь сырном соусе филе кусочки   4683061   \n",
       "\n",
       "                     w  classes  \n",
       "1745933        {21873}       12  \n",
       "3680420  {2817, 21703}       17  \n",
       "3782096  {2801, 21701}       17  \n",
       "786940          {4700}        0  \n",
       "871138   {21922, 1398}        0  \n",
       "...                ...      ...  \n",
       "851995   {21922, 1398}        0  \n",
       "1300784         {1777}        0  \n",
       "183558          {4195}        0  \n",
       "1461147        {39467}        9  \n",
       "1390741  {21940, 1636}        0  \n",
       "\n",
       "[1966170 rows x 5 columns]"
      ]
     },
     "metadata": {},
     "output_type": "display_data"
    }
   ],
   "source": [
    "#!g1.1\n",
    "result_train, result_val = train_test_split(result, test_size=0.5)\n",
    "result_train"
   ]
  },
  {
   "cell_type": "code",
   "execution_count": null,
   "metadata": {
    "cellId": "p615w0itrur0mrhqaaxxu4"
   },
   "outputs": [],
   "source": [
    "#!g1.1\n"
   ]
  },
  {
   "cell_type": "code",
   "execution_count": null,
   "metadata": {
    "cellId": "8181ickf16ambrr6xpvh7e"
   },
   "outputs": [],
   "source": [
    "#!g1.1\n"
   ]
  },
  {
   "cell_type": "code",
   "execution_count": null,
   "metadata": {
    "cellId": "1ygrlz4c8dw689ebayuid"
   },
   "outputs": [],
   "source": [
    "#!g1.1\n"
   ]
  },
  {
   "cell_type": "code",
   "execution_count": null,
   "metadata": {
    "cellId": "tnz9hdgg319sniewnm7nso",
    "id": "R1-DF3i-88qo"
   },
   "outputs": [],
   "source": [
    "#!g1.1\n"
   ]
  },
  {
   "cell_type": "code",
   "execution_count": 115,
   "metadata": {
    "cellId": "85wb84sbmq35g32sii9eoc",
    "id": "syagekEU88tH"
   },
   "outputs": [],
   "source": [
    "#!g1.1\n",
    "num_classes = 18"
   ]
  },
  {
   "cell_type": "code",
   "execution_count": 28,
   "metadata": {
    "cellId": "if6g40cna3kvzt90cn34s",
    "colab": {
     "base_uri": "https://localhost:8080/"
    },
    "id": "Vfk8XFE088vv",
    "outputId": "c7d4c043-0e77-4589-97b4-7ea1c1bd589a"
   },
   "outputs": [
    {
     "name": "stdout",
     "output_type": "stream",
     "text": [
      "Defaulting to user installation because normal site-packages is not writeable\n",
      "Requirement already satisfied: sentencepiece in /usr/local/lib/python3.7/dist-packages (0.1.95)\n"
     ]
    }
   ],
   "source": [
    "#!g1.1\n",
    "%pip install sentencepiece"
   ]
  },
  {
   "cell_type": "code",
   "execution_count": 29,
   "metadata": {
    "cellId": "lo1zxsvxqsjbmbwwro3le",
    "colab": {
     "base_uri": "https://localhost:8080/"
    },
    "id": "Npfii_f-88yU",
    "outputId": "14bbfaef-8120-490f-ba7f-954f65c6a607"
   },
   "outputs": [
    {
     "name": "stdout",
     "output_type": "stream",
     "text": [
      "Defaulting to user installation because normal site-packages is not writeable\n",
      "Requirement already satisfied: transformers in /usr/local/lib/python3.7/dist-packages (2.5.1)\n",
      "Requirement already satisfied: regex!=2019.12.17 in /usr/local/lib/python3.7/dist-packages (from transformers) (2021.3.17)\n",
      "Requirement already satisfied: requests in /kernel/lib/python3.7/site-packages (from transformers) (2.25.1)\n",
      "Requirement already satisfied: tqdm>=4.27 in /usr/local/lib/python3.7/dist-packages (from transformers) (4.50.0)\n",
      "Requirement already satisfied: sacremoses in /usr/local/lib/python3.7/dist-packages (from transformers) (0.0.43)\n",
      "Requirement already satisfied: sentencepiece in /usr/local/lib/python3.7/dist-packages (from transformers) (0.1.95)\n",
      "Requirement already satisfied: boto3 in /usr/local/lib/python3.7/dist-packages (from transformers) (1.12.31)\n",
      "Requirement already satisfied: filelock in /usr/local/lib/python3.7/dist-packages (from transformers) (3.0.12)\n",
      "Requirement already satisfied: tokenizers==0.5.2 in /usr/local/lib/python3.7/dist-packages (from transformers) (0.5.2)\n",
      "Requirement already satisfied: numpy in /kernel/lib/python3.7/site-packages (from transformers) (1.19.4)\n",
      "Requirement already satisfied: botocore<1.16.0,>=1.15.31 in /usr/local/lib/python3.7/dist-packages (from boto3->transformers) (1.15.49)\n",
      "Requirement already satisfied: s3transfer<0.4.0,>=0.3.0 in /usr/local/lib/python3.7/dist-packages (from boto3->transformers) (0.3.6)\n",
      "Requirement already satisfied: jmespath<1.0.0,>=0.7.1 in /usr/local/lib/python3.7/dist-packages (from boto3->transformers) (0.10.0)\n",
      "Requirement already satisfied: python-dateutil<3.0.0,>=2.1 in /kernel/lib/python3.7/site-packages (from botocore<1.16.0,>=1.15.31->boto3->transformers) (2.8.1)\n",
      "Requirement already satisfied: docutils<0.16,>=0.10 in /usr/local/lib/python3.7/dist-packages (from botocore<1.16.0,>=1.15.31->boto3->transformers) (0.15.2)\n",
      "Collecting urllib3<1.26,>=1.20\n",
      "  Downloading urllib3-1.25.11-py2.py3-none-any.whl (127 kB)\n",
      "\u001b[K     |████████████████████████████████| 127 kB 3.6 MB/s \n",
      "\u001b[?25hRequirement already satisfied: six>=1.5 in /kernel/lib/python3.7/site-packages (from python-dateutil<3.0.0,>=2.1->botocore<1.16.0,>=1.15.31->boto3->transformers) (1.15.0)\n",
      "Requirement already satisfied: idna<3,>=2.5 in /kernel/lib/python3.7/site-packages (from requests->transformers) (2.10)\n",
      "Requirement already satisfied: certifi>=2017.4.17 in /kernel/lib/python3.7/site-packages (from requests->transformers) (2020.12.5)\n",
      "Requirement already satisfied: chardet<5,>=3.0.2 in /kernel/lib/python3.7/site-packages (from requests->transformers) (4.0.0)\n",
      "Requirement already satisfied: joblib in /usr/local/lib/python3.7/dist-packages (from sacremoses->transformers) (1.0.1)\n",
      "Requirement already satisfied: click in /usr/local/lib/python3.7/dist-packages (from sacremoses->transformers) (7.1.2)\n",
      "Installing collected packages: urllib3\n",
      "\u001b[31mERROR: pip's dependency resolver does not currently take into account all the packages that are installed. This behaviour is the source of the following dependency conflicts.\n",
      "moto 1.3.14 requires idna<2.9,>=2.5, but you have idna 2.10 which is incompatible.\n",
      "kaggle 1.5.8 requires urllib3<1.25,>=1.21.1, but you have urllib3 1.25.11 which is incompatible.\u001b[0m\n",
      "Successfully installed urllib3-1.25.11\n"
     ]
    }
   ],
   "source": [
    "#!g1.1\n",
    "%pip install transformers"
   ]
  },
  {
   "cell_type": "code",
   "execution_count": 31,
   "metadata": {
    "cellId": "4asf3slpt1mkw9i8i04epp"
   },
   "outputs": [
    {
     "name": "stdout",
     "output_type": "stream",
     "text": [
      "Defaulting to user installation because normal site-packages is not writeable\n",
      "Collecting tensorflow_hub\n",
      "  Downloading tensorflow_hub-0.12.0-py2.py3-none-any.whl (108 kB)\n",
      "\u001b[K     |████████████████████████████████| 108 kB 3.1 MB/s \n",
      "\u001b[?25hRequirement already satisfied: protobuf>=3.8.0 in /usr/local/lib/python3.7/dist-packages (from tensorflow_hub) (3.15.6)\n",
      "Requirement already satisfied: numpy>=1.12.0 in /kernel/lib/python3.7/site-packages (from tensorflow_hub) (1.19.4)\n",
      "Requirement already satisfied: six>=1.9 in /kernel/lib/python3.7/site-packages (from protobuf>=3.8.0->tensorflow_hub) (1.15.0)\n",
      "Installing collected packages: tensorflow-hub\n",
      "\u001b[33m  WARNING: The scripts make_image_classifier and make_nearest_neighbour_index are installed in '/home/jupyter/.local/bin' which is not on PATH.\n",
      "  Consider adding this directory to PATH or, if you prefer to suppress this warning, use --no-warn-script-location.\u001b[0m\n",
      "Successfully installed tensorflow-hub-0.12.0\n"
     ]
    }
   ],
   "source": [
    "#!g1.1\n",
    "%pip install tensorflow_hub"
   ]
  },
  {
   "cell_type": "code",
   "execution_count": 32,
   "metadata": {
    "cellId": "gmadtbeqtzm39148dk4s",
    "id": "eM4PqoWN5Z6L"
   },
   "outputs": [
    {
     "name": "stderr",
     "output_type": "stream",
     "text": [
      "Using TensorFlow backend.\n"
     ]
    }
   ],
   "source": [
    "#!g1.1\n",
    "import tensorflow as tf\n",
    "import tensorflow_hub as hub\n",
    "import pandas as pd\n",
    "from sklearn.model_selection import train_test_split\n",
    "import numpy as np\n",
    "import re\n",
    "import unicodedata\n",
    "import nltk\n",
    "from nltk.corpus import stopwords\n",
    "import keras\n",
    "from tqdm import tqdm\n",
    "import pickle\n",
    "from keras.models import Model\n",
    "import keras.backend as K\n",
    "from sklearn.metrics import confusion_matrix,f1_score,classification_report\n",
    "import matplotlib.pyplot as plt\n",
    "from keras.callbacks import ModelCheckpoint\n",
    "import itertools\n",
    "from keras.models import load_model\n",
    "from sklearn.utils import shuffle\n",
    "from transformers import *\n",
    "from transformers import BertTokenizer, TFBertModel, BertConfig"
   ]
  },
  {
   "cell_type": "code",
   "execution_count": 145,
   "metadata": {
    "cellId": "sqkratu1mks2bf2x97zo",
    "colab": {
     "base_uri": "https://localhost:8080/",
     "height": 330,
     "referenced_widgets": [
      "80063f975de949179efd085f3563e84c",
      "454dde1a0e6040a6a6f7b30facd6ac98",
      "735fa622a5d54141a1b9818d34088a21",
      "986781cead8c4e9a8ddd72a32d3906b3",
      "3cf52b101b394ce9a40abcfdea264a15",
      "873eb2a60c924626a61beafc8d6f2f78",
      "e372787e5c8d4abd929728f1ed7fc382",
      "7e21e43212a6494e946841939e2c3627",
      "04ad3cf913d7428398dfb37c2f438bc4",
      "43d9866af61642c79638af06ef18ea3e",
      "9ffd5b82c5df4b15a11ae87b78f891f6",
      "553afabea227411f8679adfd7f96b3c0",
      "bab3a877da534585944fdb7370da4f66",
      "0c96f969b72f434fb7fb4905f370d79f",
      "e492c54bda954a9993da05379d1e7b1c",
      "b45ce3ced9e64943bc03a8c66cdc2dbc",
      "9fde57b061814a18a0a0f9f9cf516922",
      "010705832f55412ba54cdb432e698595",
      "a6e5855568bb4043a6daf47a755f42ae",
      "bd903683d7444b12b3c295008a7299ba",
      "0afc15c0e8b94bfcae701eed33861c6d",
      "fe6797e2a2df4148a9d85743126c2cc7",
      "bbf66456a4d5481fb532339700932c3b",
      "0b6fd7d5f4f146e2b3de4dd79e658038",
      "85f49381e4b64cd4a983cb14c5f910a6",
      "7049290cdce04c7f92a85ec7f8e960b3",
      "9202066cdeb84950a71dda83d7155500",
      "7244bdd56aeb4f6faa61b25c8c928747",
      "6d917ecc272c4cb1829a2b4f205f5017",
      "ec408b0ec6394a638bf53aa52e6f0c39",
      "ef6f7d8f5a794a9a8932f309b7a460ab",
      "f674338d11884f3db097806549676d3a",
      "6812a4a0cbbd41d69ede77c34b29fa08",
      "30e083bd03a1432ab07723600b47c187",
      "f566187c943d49ada11917f01f99a587",
      "6dbc5ec0b60346d899917013f3dbf19f",
      "4b2d630f3bd4482bb00e06ca4cde857b",
      "8d55a026b5ab4f3984d71550eaab5210",
      "2c78e6f2e0674be79665d3a97bdb6acb",
      "8bb1dd3d17da496d80292e007872c4c4"
     ]
    },
    "id": "2Foz7TPc5Z88",
    "outputId": "1485edaa-ca03-4cba-f943-306ac9a29799"
   },
   "outputs": [],
   "source": [
    "#!g1.1\n",
    "bert_tokenizer = BertTokenizer.from_pretrained(\"bert-base-uncased\")\n",
    "bert_model = TFBertForSequenceClassification.from_pretrained('bert-base-uncased', num_labels=num_classes)"
   ]
  },
  {
   "cell_type": "code",
   "execution_count": 34,
   "metadata": {
    "cellId": "n3043ihaf09u4z1po01su",
    "colab": {
     "base_uri": "https://localhost:8080/"
    },
    "id": "hRUNa56t235r",
    "outputId": "e0df200b-502f-4be7-a967-a2494ac39cb6"
   },
   "outputs": [
    {
     "name": "stdout",
     "output_type": "stream",
     "text": [
      "['how', 'to', 'train', 'the', 'model', ',', 'lets', 'look', 'at', 'how', 'a', 'trained', 'model', 'calculate', '##s', 'its', 'prediction', '.']\n"
     ]
    }
   ],
   "source": [
    "#!g1.1\n",
    "sent= 'how to train the model, lets look at how a trained model calculates its prediction.'\n",
    "tokens=bert_tokenizer.tokenize(sent)\n",
    "print(tokens)"
   ]
  },
  {
   "cell_type": "code",
   "execution_count": 35,
   "metadata": {
    "cellId": "79tm5xtiwc1pfa62hnk9u",
    "colab": {
     "base_uri": "https://localhost:8080/"
    },
    "id": "guJiCfxx238A",
    "outputId": "b34acc51-4dce-4661-ce4c-8c761926556d"
   },
   "outputs": [],
   "source": [
    "#!g1.1\n",
    "tokenized_sequence = bert_tokenizer.encode_plus(sent, add_special_tokens = True, max_length =131, pad_to_max_length = True, return_attention_mask = True)"
   ]
  },
  {
   "cell_type": "code",
   "execution_count": 36,
   "metadata": {
    "cellId": "3lhrii2t935tomy0gilbr9",
    "colab": {
     "base_uri": "https://localhost:8080/"
    },
    "id": "kpew31NIu3ag",
    "outputId": "fd84eac8-f696-4d36-fd2b-6c410341a20b"
   },
   "outputs": [
    {
     "data": {
      "text/plain": [
       "131"
      ]
     },
     "metadata": {},
     "output_type": "display_data"
    }
   ],
   "source": [
    "#!g1.1\n",
    "len(tokenized_sequence['input_ids'])"
   ]
  },
  {
   "cell_type": "code",
   "execution_count": 37,
   "metadata": {
    "cellId": "zbfr4v9quyd1f9i5s8vf59i",
    "colab": {
     "base_uri": "https://localhost:8080/",
     "height": 86
    },
    "id": "8p4c6kwLu3do",
    "outputId": "17477457-d940-4618-c637-b5360b4774ee"
   },
   "outputs": [
    {
     "data": {
      "text/plain": [
       "'[CLS] how to train the model, lets look at how a trained model calculates its prediction. [SEP] [PAD] [PAD] [PAD] [PAD] [PAD] [PAD] [PAD] [PAD] [PAD] [PAD] [PAD] [PAD] [PAD] [PAD] [PAD] [PAD] [PAD] [PAD] [PAD] [PAD] [PAD] [PAD] [PAD] [PAD] [PAD] [PAD] [PAD] [PAD] [PAD] [PAD] [PAD] [PAD] [PAD] [PAD] [PAD] [PAD] [PAD] [PAD] [PAD] [PAD] [PAD] [PAD] [PAD] [PAD] [PAD] [PAD] [PAD] [PAD] [PAD] [PAD] [PAD] [PAD] [PAD] [PAD] [PAD] [PAD] [PAD] [PAD] [PAD] [PAD] [PAD] [PAD] [PAD] [PAD] [PAD] [PAD] [PAD] [PAD] [PAD] [PAD] [PAD] [PAD] [PAD] [PAD] [PAD] [PAD] [PAD] [PAD] [PAD] [PAD] [PAD] [PAD] [PAD] [PAD] [PAD] [PAD] [PAD] [PAD] [PAD] [PAD] [PAD] [PAD] [PAD] [PAD] [PAD] [PAD] [PAD] [PAD] [PAD] [PAD] [PAD] [PAD] [PAD] [PAD] [PAD] [PAD] [PAD] [PAD] [PAD] [PAD] [PAD]'"
      ]
     },
     "metadata": {},
     "output_type": "display_data"
    }
   ],
   "source": [
    "#!g1.1\n",
    "bert_tokenizer.decode(tokenized_sequence['input_ids'])"
   ]
  },
  {
   "cell_type": "code",
   "execution_count": 135,
   "metadata": {
    "cellId": "x5x27e3sl75gs674xv7me",
    "colab": {
     "base_uri": "https://localhost:8080/"
    },
    "id": "oEPYSt11-7T0",
    "outputId": "0cb0fdd4-b0ef-4cc2-8e7e-a66e36cc7d9c"
   },
   "outputs": [
    {
     "data": {
      "text/plain": [
       "(3732748, 3732748)"
      ]
     },
     "metadata": {},
     "output_type": "display_data"
    }
   ],
   "source": [
    "#!g1.1\n",
    "sentences=result.X\n",
    "labels=result.classes\n",
    "len(sentences), len(labels)"
   ]
  },
  {
   "cell_type": "code",
   "execution_count": 136,
   "metadata": {
    "cellId": "el9lqb3aw2saovpsv2go5l",
    "colab": {
     "base_uri": "https://localhost:8080/"
    },
    "id": "PwkgRd3m-WUP",
    "outputId": "d641df10-7798-4fcc-dcc4-d3b701c27a44"
   },
   "outputs": [
    {
     "name": "stderr",
     "output_type": "stream",
     "text": [
      "100%|██████████| 3732748/3732748 [26:01<00:00, 2389.86it/s]\n"
     ]
    }
   ],
   "source": [
    "#!g1.1\n",
    "input_ids=[]\n",
    "attention_masks=[]\n",
    "\n",
    "for sent in tqdm(sentences):\n",
    "    bert_inp=bert_tokenizer.encode_plus(sent, add_special_tokens = True, max_length = 131, pad_to_max_length = True, return_attention_mask = True)\n",
    "    input_ids.append(bert_inp['input_ids'])\n",
    "    attention_masks.append(bert_inp['attention_mask'])\n",
    "\n",
    "input_ids=np.asarray(input_ids)\n",
    "attention_masks=np.array(attention_masks)\n",
    "labels=np.array(labels)"
   ]
  },
  {
   "cell_type": "code",
   "execution_count": 137,
   "metadata": {
    "cellId": "jha8eve30ijtpcmx1d6aed",
    "id": "nufnFwtO-jz5"
   },
   "outputs": [
    {
     "data": {
      "text/plain": [
       "(3732748, 3732748, 3732748)"
      ]
     },
     "metadata": {},
     "output_type": "display_data"
    }
   ],
   "source": [
    "#!g1.1\n",
    "len(input_ids),len(attention_masks),len(labels)"
   ]
  },
  {
   "cell_type": "code",
   "execution_count": 138,
   "metadata": {
    "cellId": "e1crqj66ebl12jnsmzsok",
    "id": "Kml6uGru_Ok1"
   },
   "outputs": [
    {
     "name": "stdout",
     "output_type": "stream",
     "text": [
      "Preparing the pickle file.....\n",
      "Pickle files saved as  data_bert/bert_inp.pkl data_bert/bert_mask.pkl data_bert/bert_label.pkl\n"
     ]
    }
   ],
   "source": [
    "#!g1.1\n",
    "print('Preparing the pickle file.....')\n",
    "\n",
    "pickle_inp_path='data_bert/bert_inp.pkl'\n",
    "pickle_mask_path='data_bert/bert_mask.pkl'\n",
    "pickle_label_path='data_bert/bert_label.pkl'\n",
    "\n",
    "pickle.dump((input_ids), open(pickle_inp_path,'wb'))\n",
    "pickle.dump((attention_masks), open(pickle_mask_path,'wb'))\n",
    "pickle.dump((labels), open(pickle_label_path,'wb'))\n",
    "\n",
    "\n",
    "print('Pickle files saved as ', pickle_inp_path, pickle_mask_path, pickle_label_path)"
   ]
  },
  {
   "cell_type": "code",
   "execution_count": 139,
   "metadata": {
    "cellId": "z863xgvwc1ju2u5ylg8mjf",
    "id": "DaR4LG_n_On_"
   },
   "outputs": [
    {
     "name": "stdout",
     "output_type": "stream",
     "text": [
      "Loading the saved pickle files..\n",
      "Input shape (3732748, 131) Attention mask shape (3732748, 131) Input label shape (3732748,)\n"
     ]
    }
   ],
   "source": [
    "#!g1.1\n",
    "print('Loading the saved pickle files..')\n",
    "\n",
    "input_ids=pickle.load(open(pickle_inp_path, 'rb'))\n",
    "attention_masks=pickle.load(open(pickle_mask_path, 'rb'))\n",
    "labels=pickle.load(open(pickle_label_path, 'rb'))\n",
    "\n",
    "print('Input shape {} Attention mask shape {} Input label shape {}'.format(input_ids.shape, attention_masks.shape, labels.shape))"
   ]
  },
  {
   "cell_type": "code",
   "execution_count": 140,
   "metadata": {
    "cellId": "k9lufptvb64dpdlc7zkoj",
    "id": "VmlEIcMb_Oqn"
   },
   "outputs": [
    {
     "name": "stdout",
     "output_type": "stream",
     "text": [
      "Train inp shape (2612923, 131) Val input shape (1119825, 131)\n",
      "Train label shape (2612923,) Val label shape (1119825,)\n",
      "Train attention mask shape (2612923, 131) Val attention mask shape (1119825, 131)\n"
     ]
    }
   ],
   "source": [
    "#!g1.1\n",
    "train_inp, val_inp, train_label, val_label, train_mask, val_mask = train_test_split(input_ids, labels, attention_masks, test_size=0.3)\n",
    "\n",
    "print('Train inp shape {} Val input shape {}\\nTrain label shape {} Val label shape {}\\nTrain attention mask shape {} Val attention mask shape {}'.format(train_inp.shape, val_inp.shape, train_label.shape, val_label.shape, train_mask.shape, val_mask.shape))"
   ]
  },
  {
   "cell_type": "code",
   "execution_count": 151,
   "metadata": {
    "cellId": "nlql4a1emjdgzud3kcvc5k",
    "id": "1REDmQgn_Oua"
   },
   "outputs": [
    {
     "name": "stdout",
     "output_type": "stream",
     "text": [
      "Model: \"tf_bert_for_sequence_classification_1\"\n",
      "_________________________________________________________________\n",
      "Layer (type)                 Output Shape              Param #   \n",
      "=================================================================\n",
      "bert (TFBertMainLayer)       multiple                  109482240 \n",
      "_________________________________________________________________\n",
      "dropout_75 (Dropout)         multiple                  0         \n",
      "_________________________________________________________________\n",
      "classifier (Dense)           multiple                  13842     \n",
      "=================================================================\n",
      "Total params: 109,496,082\n",
      "Trainable params: 109,496,082\n",
      "Non-trainable params: 0\n",
      "_________________________________________________________________\n",
      "\n",
      "Bert Model None\n"
     ]
    }
   ],
   "source": [
    "#!g1.1\n",
    "import datetime\n",
    "\n",
    "log_dir=\"logs/fit/\" + datetime.datetime.now().strftime(\"%Y%m%d-%H%M%S\")\n",
    "model_save_path='data_bert/bert_model.h5'\n",
    "\n",
    "callbacks = [tf.keras.callbacks.ModelCheckpoint(filepath=model_save_path, save_weights_only=True, monitor='val_loss', mode='min', save_best_only=True), keras.callbacks.TensorBoard(log_dir=log_dir)]\n",
    "\n",
    "print('\\nBert Model',bert_model.summary())\n",
    "\n",
    "loss = tf.keras.losses.SparseCategoricalCrossentropy(from_logits=True)\n",
    "metric = tf.keras.metrics.SparseCategoricalAccuracy('accuracy')\n",
    "optimizer = tf.keras.optimizers.Adam(learning_rate=2e-5,epsilon=1e-08)\n",
    "\n",
    "bert_model.compile(loss=loss,optimizer=optimizer,metrics=[metric])"
   ]
  },
  {
   "cell_type": "code",
   "execution_count": 152,
   "metadata": {
    "cellId": "irqtmjw1bqdp1eet7jvj",
    "id": "Exo1je5e-j2h"
   },
   "outputs": [
    {
     "name": "stdout",
     "output_type": "stream",
     "text": [
      "2612923/2612923 [==============================] - 27046s 10ms/sample - loss: 0.3692 - accuracy: 0.8168 - val_loss: 0.3472 - val_accuracy: 0.8224\n"
     ]
    }
   ],
   "source": [
    "#!g1.1\n",
    "history = bert_model.fit([train_inp,train_mask], train_label, batch_size=64, epochs=2, validation_data=([val_inp,val_mask], val_label), callbacks=callbacks, verbose=1)"
   ]
  },
  {
   "cell_type": "code",
   "execution_count": 87,
   "metadata": {
    "cellId": "c8zyr0kvp2n7pqb4hk0bet",
    "collapsed": true,
    "jupyter": {
     "outputs_hidden": true
    }
   },
   "outputs": [
    {
     "name": "stdout",
     "output_type": "stream",
     "text": [
      "Launching TensorBoard...\n"
     ]
    },
    {
     "data": {
      "text/html": [
       "\n",
       "        <iframe id=\"tensorboard-frame-eae6ceafe79c7318\" width=\"100%\" height=\"800\" frameborder=\"0\">\n",
       "        </iframe>\n",
       "        <script>\n",
       "        function getCookie(name) {\n",
       "          let matches = document.cookie.match(new RegExp(\n",
       "            \"(?:^|; )\" + name.replace(/([\\.$?*|{}\\(\\)\\[\\]\\\\/\\+^])/g, '\\$1') + \"=([^;]*)\"\n",
       "          ));\n",
       "          return matches ? decodeURIComponent(matches[1]) : undefined;\n",
       "        }\n",
       "        \n",
       "        (function() {\n",
       "            const frame = document.getElementById(\"tensorboard-frame-eae6ceafe79c7318\");\n",
       "            const apiUrl = new URL(document.location.href.split('?')[0] + '/../api/tensorboard')\n",
       "            const xsrfToken = getCookie('_xsrf');\n",
       "            \n",
       "            fetch(apiUrl, {\n",
       "                method: 'POST',\n",
       "                mode: 'cors',\n",
       "                cache: 'no-cache',\n",
       "                credentials: 'same-origin',\n",
       "                headers: {\n",
       "                  'Content-Type': 'application/json',\n",
       "                  'X-XSRFToken': xsrfToken\n",
       "                },\n",
       "                redirect: 'follow',\n",
       "                referrerPolicy: 'origin', // no-referrer, *no-referrer-when-downgrade, origin, origin-when-cross-origin, same-origin, strict-origin, strict-origin-when-cross-origin, unsafe-url\n",
       "                body: JSON.stringify({\n",
       "                    'logdir': 'logs/fit'\n",
       "                })\n",
       "              }).then(response => {\n",
       "                response.json().then(json => {\n",
       "                    if (json.name != undefined) {\n",
       "                        const tbId = json.name;\n",
       "                        console.debug('tbId = ' + tbId);\n",
       "                        const url = new URL(document.location.href.split('?')[0] + '/../tensorboard/' + tbId);\n",
       "                        frame.src = url;\n",
       "                    }\n",
       "                });\n",
       "              });\n",
       "        })();\n",
       "        </script>\n",
       "        "
      ],
      "text/plain": [
       "<IPython.core.display.HTML object>"
      ]
     },
     "metadata": {},
     "output_type": "display_data"
    }
   ],
   "source": [
    "#!g1.1\n",
    "log_dir=\"logs/fit/\" + datetime.datetime.now().strftime(\"%Y%m%d-%H%M%S\")\n",
    "%tensorboard --logdir logs/fit"
   ]
  },
  {
   "cell_type": "code",
   "execution_count": 157,
   "metadata": {
    "cellId": "bgtid5guwcc2ec08e2f4e9"
   },
   "outputs": [
    {
     "name": "stdout",
     "output_type": "stream",
     "text": [
      "Classification Report\n",
      "                            precision    recall  f1-score   support\n",
      "\n",
      "               Еда-напитки       0.98      0.99      0.98    302544\n",
      "                Автотовары       0.85      0.77      0.81      9065\n",
      "           Бытовая техника       0.69      0.73      0.71     14169\n",
      "         Дача, сад, огород       0.90      0.82      0.86     27419\n",
      "                 Зоотовары       0.96      0.91      0.93     21563\n",
      "                Канцелярия       0.87      0.92      0.89     20965\n",
      "                     Табак       0.99      0.97      0.98      3742\n",
      "       Товары для взрослых       0.00      0.00      0.00        89\n",
      "                 Косметика       0.92      0.88      0.90     46159\n",
      "       Товары для здоровья       0.87      0.90      0.89     20748\n",
      "Товары для спорта и отдыха       0.81      0.86      0.84     22048\n",
      "               Электроника       0.86      0.82      0.84     19152\n",
      "            Одежда и обувь       0.66      0.72      0.69    202369\n",
      "                     Хобби       0.76      0.55      0.64      6839\n",
      "                  Упаковка       0.42      0.28      0.34      2988\n",
      " Стройматериалы(и ремонт?)       0.90      0.91      0.91    159582\n",
      "  Товары для детей(и мам?)       0.61      0.54      0.58    168540\n",
      "           Товары для дома       0.76      0.82      0.79     71844\n",
      "\n",
      "                  accuracy                           0.82   1119825\n",
      "                 macro avg       0.77      0.74      0.75   1119825\n",
      "              weighted avg       0.82      0.82      0.82   1119825\n",
      "\n",
      "Training and saving built model.....\n"
     ]
    },
    {
     "name": "stderr",
     "output_type": "stream",
     "text": [
      "Traceback (most recent call last):\n",
      "  File \"/kernel/lib/python3.7/site-packages/ml_kernel/state/state_protocol.py\", line 287, in _load_component\n",
      "    value = unpickler.load()\n",
      "KeyError: 1\n",
      "\n",
      "The above exception was the direct cause of the following exception:\n",
      "\n",
      "ml_kernel.state.state_protocol.KernelStateProtocol.DeserializationException\n",
      "Traceback (most recent call last):\n",
      "  File \"/kernel/lib/python3.7/site-packages/ml_kernel/state/state_protocol.py\", line 287, in _load_component\n",
      "    value = unpickler.load()\n",
      "KeyError: 1\n",
      "\n",
      "The above exception was the direct cause of the following exception:\n",
      "\n",
      "ml_kernel.state.state_protocol.KernelStateProtocol.DeserializationException\n",
      "/usr/local/lib/python3.7/dist-packages/sklearn/metrics/_classification.py:1272: UndefinedMetricWarning: Precision and F-score are ill-defined and being set to 0.0 in labels with no predicted samples. Use `zero_division` parameter to control this behavior.\n",
      "  _warn_prf(average, modifier, msg_start, len(result))\n",
      "/usr/local/lib/python3.7/dist-packages/sklearn/metrics/_classification.py:1272: UndefinedMetricWarning: Precision and F-score are ill-defined and being set to 0.0 in labels with no predicted samples. Use `zero_division` parameter to control this behavior.\n",
      "  _warn_prf(average, modifier, msg_start, len(result))\n",
      "/usr/local/lib/python3.7/dist-packages/sklearn/metrics/_classification.py:1272: UndefinedMetricWarning: Precision and F-score are ill-defined and being set to 0.0 in labels with no predicted samples. Use `zero_division` parameter to control this behavior.\n",
      "  _warn_prf(average, modifier, msg_start, len(result))\n"
     ]
    }
   ],
   "source": [
    "#!g1.1\n",
    "\n",
    "model_save_path='data_bert/bert_model.h5'\n",
    "\n",
    "target_names = []\n",
    "for i in range(18):\n",
    "    if i==0:\n",
    "        target_names.append('Еда-напитки')\n",
    "    else:\n",
    "        for clas in classes:\n",
    "            if classes[clas] == i:\n",
    "                target_names.append(clas)\n",
    "                \n",
    "loss = tf.keras.losses.SparseCategoricalCrossentropy(from_logits=True)\n",
    "metric = tf.keras.metrics.SparseCategoricalAccuracy('accuracy')                \n",
    "optimizer = tf.keras.optimizers.Adam(learning_rate=2e-5,epsilon=1e-08)\n",
    "trained_model = TFBertForSequenceClassification.from_pretrained('bert-base-uncased', num_labels=18)\n",
    "trained_model.compile(loss=loss, optimizer=optimizer, metrics=[metric])\n",
    "trained_model.load_weights(model_save_path)\n",
    "\n",
    "\n",
    "\n",
    "preds = trained_model.predict([val_inp, val_mask], batch_size=64)\n",
    "pred_labels = preds.argmax(axis=1)\n",
    "#f1 = f1_score(val_label, pred_labels)\n",
    "#print('F1 score', f1)\n",
    "print('Classification Report')\n",
    "print(classification_report(val_label, pred_labels, target_names=target_names))\n",
    "\n",
    "print('Training and saving built model.....')"
   ]
  },
  {
   "cell_type": "code",
   "execution_count": null,
   "metadata": {
    "cellId": "ld3aedflirmqtlbdennx2c"
   },
   "outputs": [],
   "source": [
    "#!g1.4\n"
   ]
  },
  {
   "cell_type": "code",
   "execution_count": null,
   "metadata": {
    "cellId": "l43qmaajdmi376gwggd42c"
   },
   "outputs": [],
   "source": [
    "#!g1.4\n"
   ]
  },
  {
   "cell_type": "code",
   "execution_count": null,
   "metadata": {
    "cellId": "ex82anci3dnnergaq8qjt9"
   },
   "outputs": [],
   "source": [
    "#!g1.4\n"
   ]
  },
  {
   "cell_type": "code",
   "execution_count": null,
   "metadata": {
    "cellId": "vtldh2sv5kn5e93hcc2zn"
   },
   "outputs": [],
   "source": [
    "#!g1.4\n"
   ]
  },
  {
   "cell_type": "code",
   "execution_count": null,
   "metadata": {
    "cellId": "31dfv27c2m9gbi4rry3eko",
    "id": "4tfZM94V-j5T"
   },
   "outputs": [],
   "source": [
    "#!g1.1\n"
   ]
  },
  {
   "cell_type": "code",
   "execution_count": null,
   "metadata": {
    "cellId": "a5j4xusp44nt7d0e83gt0k",
    "id": "uidKE1di-WW_"
   },
   "outputs": [],
   "source": [
    "#!g1.1\n"
   ]
  },
  {
   "cell_type": "code",
   "execution_count": null,
   "metadata": {
    "cellId": "l5d0pujw1pxh7zg7x4ijo",
    "id": "8eP0yZh--WZk"
   },
   "outputs": [],
   "source": [
    "#!g1.1\n"
   ]
  },
  {
   "cell_type": "code",
   "execution_count": null,
   "metadata": {
    "cellId": "x9v2o0cvbu8695dxzu9qbi",
    "id": "psD4Ut_A-WcZ"
   },
   "outputs": [],
   "source": []
  },
  {
   "cell_type": "code",
   "execution_count": null,
   "metadata": {
    "cellId": "vzha6fw6wq803pbdih12yub",
    "id": "hKZQ5eQi-We0"
   },
   "outputs": [],
   "source": []
  },
  {
   "cell_type": "code",
   "execution_count": null,
   "metadata": {
    "cellId": "e8y77vcehobdwwxnm4v0fa",
    "id": "t6oNhp6G-Whn"
   },
   "outputs": [],
   "source": []
  },
  {
   "cell_type": "code",
   "execution_count": null,
   "metadata": {
    "cellId": "pbelrn8835eirbblasqki",
    "id": "jOcxdf11-WkM"
   },
   "outputs": [],
   "source": []
  },
  {
   "cell_type": "code",
   "execution_count": null,
   "metadata": {
    "cellId": "ee2yd2yxdh9u4escsnfzk8",
    "id": "KmxwsbMIu3gN"
   },
   "outputs": [],
   "source": []
  },
  {
   "cell_type": "code",
   "execution_count": null,
   "metadata": {
    "cellId": "rjsg7uwxpiqnfr7a55drzo",
    "id": "qxH-hT6bu3jY"
   },
   "outputs": [],
   "source": []
  }
 ],
 "metadata": {
  "accelerator": "TPU",
  "colab": {
   "collapsed_sections": [],
   "name": "my robert.ipynb",
   "provenance": []
  },
  "kernelspec": {
   "display_name": "Python 3",
   "language": "python",
   "name": "python3"
  },
  "language_info": {
   "codemirror_mode": {
    "name": "ipython",
    "version": 3
   },
   "file_extension": ".py",
   "mimetype": "text/x-python",
   "name": "python",
   "nbconvert_exporter": "python",
   "pygments_lexer": "ipython3",
   "version": "3.8.6rc1"
  },
  "notebookId": "d3e39b43-c1ed-45ec-86e7-f7e0d7bde092",
  "widgets": {
   "application/vnd.jupyter.widget-state+json": {
    "010705832f55412ba54cdb432e698595": {
     "model_module": "@jupyter-widgets/base",
     "model_name": "LayoutModel",
     "state": {
      "_model_module": "@jupyter-widgets/base",
      "_model_module_version": "1.2.0",
      "_model_name": "LayoutModel",
      "_view_count": null,
      "_view_module": "@jupyter-widgets/base",
      "_view_module_version": "1.2.0",
      "_view_name": "LayoutView",
      "align_content": null,
      "align_items": null,
      "align_self": null,
      "border": null,
      "bottom": null,
      "display": null,
      "flex": null,
      "flex_flow": null,
      "grid_area": null,
      "grid_auto_columns": null,
      "grid_auto_flow": null,
      "grid_auto_rows": null,
      "grid_column": null,
      "grid_gap": null,
      "grid_row": null,
      "grid_template_areas": null,
      "grid_template_columns": null,
      "grid_template_rows": null,
      "height": null,
      "justify_content": null,
      "justify_items": null,
      "left": null,
      "margin": null,
      "max_height": null,
      "max_width": null,
      "min_height": null,
      "min_width": null,
      "object_fit": null,
      "object_position": null,
      "order": null,
      "overflow": null,
      "overflow_x": null,
      "overflow_y": null,
      "padding": null,
      "right": null,
      "top": null,
      "visibility": null,
      "width": null
     }
    },
    "04ad3cf913d7428398dfb37c2f438bc4": {
     "model_module": "@jupyter-widgets/controls",
     "model_name": "HBoxModel",
     "state": {
      "_dom_classes": [],
      "_model_module": "@jupyter-widgets/controls",
      "_model_module_version": "1.5.0",
      "_model_name": "HBoxModel",
      "_view_count": null,
      "_view_module": "@jupyter-widgets/controls",
      "_view_module_version": "1.5.0",
      "_view_name": "HBoxView",
      "box_style": "",
      "children": [
       "IPY_MODEL_9ffd5b82c5df4b15a11ae87b78f891f6",
       "IPY_MODEL_553afabea227411f8679adfd7f96b3c0"
      ],
      "layout": "IPY_MODEL_43d9866af61642c79638af06ef18ea3e"
     }
    },
    "0afc15c0e8b94bfcae701eed33861c6d": {
     "model_module": "@jupyter-widgets/controls",
     "model_name": "ProgressStyleModel",
     "state": {
      "_model_module": "@jupyter-widgets/controls",
      "_model_module_version": "1.5.0",
      "_model_name": "ProgressStyleModel",
      "_view_count": null,
      "_view_module": "@jupyter-widgets/base",
      "_view_module_version": "1.2.0",
      "_view_name": "StyleView",
      "bar_color": null,
      "description_width": "initial"
     }
    },
    "0b6fd7d5f4f146e2b3de4dd79e658038": {
     "model_module": "@jupyter-widgets/base",
     "model_name": "LayoutModel",
     "state": {
      "_model_module": "@jupyter-widgets/base",
      "_model_module_version": "1.2.0",
      "_model_name": "LayoutModel",
      "_view_count": null,
      "_view_module": "@jupyter-widgets/base",
      "_view_module_version": "1.2.0",
      "_view_name": "LayoutView",
      "align_content": null,
      "align_items": null,
      "align_self": null,
      "border": null,
      "bottom": null,
      "display": null,
      "flex": null,
      "flex_flow": null,
      "grid_area": null,
      "grid_auto_columns": null,
      "grid_auto_flow": null,
      "grid_auto_rows": null,
      "grid_column": null,
      "grid_gap": null,
      "grid_row": null,
      "grid_template_areas": null,
      "grid_template_columns": null,
      "grid_template_rows": null,
      "height": null,
      "justify_content": null,
      "justify_items": null,
      "left": null,
      "margin": null,
      "max_height": null,
      "max_width": null,
      "min_height": null,
      "min_width": null,
      "object_fit": null,
      "object_position": null,
      "order": null,
      "overflow": null,
      "overflow_x": null,
      "overflow_y": null,
      "padding": null,
      "right": null,
      "top": null,
      "visibility": null,
      "width": null
     }
    },
    "0c96f969b72f434fb7fb4905f370d79f": {
     "model_module": "@jupyter-widgets/base",
     "model_name": "LayoutModel",
     "state": {
      "_model_module": "@jupyter-widgets/base",
      "_model_module_version": "1.2.0",
      "_model_name": "LayoutModel",
      "_view_count": null,
      "_view_module": "@jupyter-widgets/base",
      "_view_module_version": "1.2.0",
      "_view_name": "LayoutView",
      "align_content": null,
      "align_items": null,
      "align_self": null,
      "border": null,
      "bottom": null,
      "display": null,
      "flex": null,
      "flex_flow": null,
      "grid_area": null,
      "grid_auto_columns": null,
      "grid_auto_flow": null,
      "grid_auto_rows": null,
      "grid_column": null,
      "grid_gap": null,
      "grid_row": null,
      "grid_template_areas": null,
      "grid_template_columns": null,
      "grid_template_rows": null,
      "height": null,
      "justify_content": null,
      "justify_items": null,
      "left": null,
      "margin": null,
      "max_height": null,
      "max_width": null,
      "min_height": null,
      "min_width": null,
      "object_fit": null,
      "object_position": null,
      "order": null,
      "overflow": null,
      "overflow_x": null,
      "overflow_y": null,
      "padding": null,
      "right": null,
      "top": null,
      "visibility": null,
      "width": null
     }
    },
    "2c78e6f2e0674be79665d3a97bdb6acb": {
     "model_module": "@jupyter-widgets/controls",
     "model_name": "DescriptionStyleModel",
     "state": {
      "_model_module": "@jupyter-widgets/controls",
      "_model_module_version": "1.5.0",
      "_model_name": "DescriptionStyleModel",
      "_view_count": null,
      "_view_module": "@jupyter-widgets/base",
      "_view_module_version": "1.2.0",
      "_view_name": "StyleView",
      "description_width": ""
     }
    },
    "30e083bd03a1432ab07723600b47c187": {
     "model_module": "@jupyter-widgets/base",
     "model_name": "LayoutModel",
     "state": {
      "_model_module": "@jupyter-widgets/base",
      "_model_module_version": "1.2.0",
      "_model_name": "LayoutModel",
      "_view_count": null,
      "_view_module": "@jupyter-widgets/base",
      "_view_module_version": "1.2.0",
      "_view_name": "LayoutView",
      "align_content": null,
      "align_items": null,
      "align_self": null,
      "border": null,
      "bottom": null,
      "display": null,
      "flex": null,
      "flex_flow": null,
      "grid_area": null,
      "grid_auto_columns": null,
      "grid_auto_flow": null,
      "grid_auto_rows": null,
      "grid_column": null,
      "grid_gap": null,
      "grid_row": null,
      "grid_template_areas": null,
      "grid_template_columns": null,
      "grid_template_rows": null,
      "height": null,
      "justify_content": null,
      "justify_items": null,
      "left": null,
      "margin": null,
      "max_height": null,
      "max_width": null,
      "min_height": null,
      "min_width": null,
      "object_fit": null,
      "object_position": null,
      "order": null,
      "overflow": null,
      "overflow_x": null,
      "overflow_y": null,
      "padding": null,
      "right": null,
      "top": null,
      "visibility": null,
      "width": null
     }
    },
    "3cf52b101b394ce9a40abcfdea264a15": {
     "model_module": "@jupyter-widgets/controls",
     "model_name": "ProgressStyleModel",
     "state": {
      "_model_module": "@jupyter-widgets/controls",
      "_model_module_version": "1.5.0",
      "_model_name": "ProgressStyleModel",
      "_view_count": null,
      "_view_module": "@jupyter-widgets/base",
      "_view_module_version": "1.2.0",
      "_view_name": "StyleView",
      "bar_color": null,
      "description_width": "initial"
     }
    },
    "43d9866af61642c79638af06ef18ea3e": {
     "model_module": "@jupyter-widgets/base",
     "model_name": "LayoutModel",
     "state": {
      "_model_module": "@jupyter-widgets/base",
      "_model_module_version": "1.2.0",
      "_model_name": "LayoutModel",
      "_view_count": null,
      "_view_module": "@jupyter-widgets/base",
      "_view_module_version": "1.2.0",
      "_view_name": "LayoutView",
      "align_content": null,
      "align_items": null,
      "align_self": null,
      "border": null,
      "bottom": null,
      "display": null,
      "flex": null,
      "flex_flow": null,
      "grid_area": null,
      "grid_auto_columns": null,
      "grid_auto_flow": null,
      "grid_auto_rows": null,
      "grid_column": null,
      "grid_gap": null,
      "grid_row": null,
      "grid_template_areas": null,
      "grid_template_columns": null,
      "grid_template_rows": null,
      "height": null,
      "justify_content": null,
      "justify_items": null,
      "left": null,
      "margin": null,
      "max_height": null,
      "max_width": null,
      "min_height": null,
      "min_width": null,
      "object_fit": null,
      "object_position": null,
      "order": null,
      "overflow": null,
      "overflow_x": null,
      "overflow_y": null,
      "padding": null,
      "right": null,
      "top": null,
      "visibility": null,
      "width": null
     }
    },
    "454dde1a0e6040a6a6f7b30facd6ac98": {
     "model_module": "@jupyter-widgets/base",
     "model_name": "LayoutModel",
     "state": {
      "_model_module": "@jupyter-widgets/base",
      "_model_module_version": "1.2.0",
      "_model_name": "LayoutModel",
      "_view_count": null,
      "_view_module": "@jupyter-widgets/base",
      "_view_module_version": "1.2.0",
      "_view_name": "LayoutView",
      "align_content": null,
      "align_items": null,
      "align_self": null,
      "border": null,
      "bottom": null,
      "display": null,
      "flex": null,
      "flex_flow": null,
      "grid_area": null,
      "grid_auto_columns": null,
      "grid_auto_flow": null,
      "grid_auto_rows": null,
      "grid_column": null,
      "grid_gap": null,
      "grid_row": null,
      "grid_template_areas": null,
      "grid_template_columns": null,
      "grid_template_rows": null,
      "height": null,
      "justify_content": null,
      "justify_items": null,
      "left": null,
      "margin": null,
      "max_height": null,
      "max_width": null,
      "min_height": null,
      "min_width": null,
      "object_fit": null,
      "object_position": null,
      "order": null,
      "overflow": null,
      "overflow_x": null,
      "overflow_y": null,
      "padding": null,
      "right": null,
      "top": null,
      "visibility": null,
      "width": null
     }
    },
    "4b2d630f3bd4482bb00e06ca4cde857b": {
     "model_module": "@jupyter-widgets/controls",
     "model_name": "ProgressStyleModel",
     "state": {
      "_model_module": "@jupyter-widgets/controls",
      "_model_module_version": "1.5.0",
      "_model_name": "ProgressStyleModel",
      "_view_count": null,
      "_view_module": "@jupyter-widgets/base",
      "_view_module_version": "1.2.0",
      "_view_name": "StyleView",
      "bar_color": null,
      "description_width": "initial"
     }
    },
    "553afabea227411f8679adfd7f96b3c0": {
     "model_module": "@jupyter-widgets/controls",
     "model_name": "HTMLModel",
     "state": {
      "_dom_classes": [],
      "_model_module": "@jupyter-widgets/controls",
      "_model_module_version": "1.5.0",
      "_model_name": "HTMLModel",
      "_view_count": null,
      "_view_module": "@jupyter-widgets/controls",
      "_view_module_version": "1.5.0",
      "_view_name": "HTMLView",
      "description": "",
      "description_tooltip": null,
      "layout": "IPY_MODEL_b45ce3ced9e64943bc03a8c66cdc2dbc",
      "placeholder": "​",
      "style": "IPY_MODEL_e492c54bda954a9993da05379d1e7b1c",
      "value": " 28.0/28.0 [00:00&lt;00:00, 51.7B/s]"
     }
    },
    "6812a4a0cbbd41d69ede77c34b29fa08": {
     "model_module": "@jupyter-widgets/controls",
     "model_name": "HBoxModel",
     "state": {
      "_dom_classes": [],
      "_model_module": "@jupyter-widgets/controls",
      "_model_module_version": "1.5.0",
      "_model_name": "HBoxModel",
      "_view_count": null,
      "_view_module": "@jupyter-widgets/controls",
      "_view_module_version": "1.5.0",
      "_view_name": "HBoxView",
      "box_style": "",
      "children": [
       "IPY_MODEL_f566187c943d49ada11917f01f99a587",
       "IPY_MODEL_6dbc5ec0b60346d899917013f3dbf19f"
      ],
      "layout": "IPY_MODEL_30e083bd03a1432ab07723600b47c187"
     }
    },
    "6d917ecc272c4cb1829a2b4f205f5017": {
     "model_module": "@jupyter-widgets/controls",
     "model_name": "ProgressStyleModel",
     "state": {
      "_model_module": "@jupyter-widgets/controls",
      "_model_module_version": "1.5.0",
      "_model_name": "ProgressStyleModel",
      "_view_count": null,
      "_view_module": "@jupyter-widgets/base",
      "_view_module_version": "1.2.0",
      "_view_name": "StyleView",
      "bar_color": null,
      "description_width": "initial"
     }
    },
    "6dbc5ec0b60346d899917013f3dbf19f": {
     "model_module": "@jupyter-widgets/controls",
     "model_name": "HTMLModel",
     "state": {
      "_dom_classes": [],
      "_model_module": "@jupyter-widgets/controls",
      "_model_module_version": "1.5.0",
      "_model_name": "HTMLModel",
      "_view_count": null,
      "_view_module": "@jupyter-widgets/controls",
      "_view_module_version": "1.5.0",
      "_view_name": "HTMLView",
      "description": "",
      "description_tooltip": null,
      "layout": "IPY_MODEL_8bb1dd3d17da496d80292e007872c4c4",
      "placeholder": "​",
      "style": "IPY_MODEL_2c78e6f2e0674be79665d3a97bdb6acb",
      "value": " 536M/536M [00:16&lt;00:00, 32.3MB/s]"
     }
    },
    "7049290cdce04c7f92a85ec7f8e960b3": {
     "model_module": "@jupyter-widgets/base",
     "model_name": "LayoutModel",
     "state": {
      "_model_module": "@jupyter-widgets/base",
      "_model_module_version": "1.2.0",
      "_model_name": "LayoutModel",
      "_view_count": null,
      "_view_module": "@jupyter-widgets/base",
      "_view_module_version": "1.2.0",
      "_view_name": "LayoutView",
      "align_content": null,
      "align_items": null,
      "align_self": null,
      "border": null,
      "bottom": null,
      "display": null,
      "flex": null,
      "flex_flow": null,
      "grid_area": null,
      "grid_auto_columns": null,
      "grid_auto_flow": null,
      "grid_auto_rows": null,
      "grid_column": null,
      "grid_gap": null,
      "grid_row": null,
      "grid_template_areas": null,
      "grid_template_columns": null,
      "grid_template_rows": null,
      "height": null,
      "justify_content": null,
      "justify_items": null,
      "left": null,
      "margin": null,
      "max_height": null,
      "max_width": null,
      "min_height": null,
      "min_width": null,
      "object_fit": null,
      "object_position": null,
      "order": null,
      "overflow": null,
      "overflow_x": null,
      "overflow_y": null,
      "padding": null,
      "right": null,
      "top": null,
      "visibility": null,
      "width": null
     }
    },
    "7244bdd56aeb4f6faa61b25c8c928747": {
     "model_module": "@jupyter-widgets/controls",
     "model_name": "HTMLModel",
     "state": {
      "_dom_classes": [],
      "_model_module": "@jupyter-widgets/controls",
      "_model_module_version": "1.5.0",
      "_model_name": "HTMLModel",
      "_view_count": null,
      "_view_module": "@jupyter-widgets/controls",
      "_view_module_version": "1.5.0",
      "_view_name": "HTMLView",
      "description": "",
      "description_tooltip": null,
      "layout": "IPY_MODEL_f674338d11884f3db097806549676d3a",
      "placeholder": "​",
      "style": "IPY_MODEL_ef6f7d8f5a794a9a8932f309b7a460ab",
      "value": " 433/433 [00:00&lt;00:00, 1.10kB/s]"
     }
    },
    "735fa622a5d54141a1b9818d34088a21": {
     "model_module": "@jupyter-widgets/controls",
     "model_name": "FloatProgressModel",
     "state": {
      "_dom_classes": [],
      "_model_module": "@jupyter-widgets/controls",
      "_model_module_version": "1.5.0",
      "_model_name": "FloatProgressModel",
      "_view_count": null,
      "_view_module": "@jupyter-widgets/controls",
      "_view_module_version": "1.5.0",
      "_view_name": "ProgressView",
      "bar_style": "success",
      "description": "Downloading: 100%",
      "description_tooltip": null,
      "layout": "IPY_MODEL_873eb2a60c924626a61beafc8d6f2f78",
      "max": 231508,
      "min": 0,
      "orientation": "horizontal",
      "style": "IPY_MODEL_3cf52b101b394ce9a40abcfdea264a15",
      "value": 231508
     }
    },
    "7e21e43212a6494e946841939e2c3627": {
     "model_module": "@jupyter-widgets/base",
     "model_name": "LayoutModel",
     "state": {
      "_model_module": "@jupyter-widgets/base",
      "_model_module_version": "1.2.0",
      "_model_name": "LayoutModel",
      "_view_count": null,
      "_view_module": "@jupyter-widgets/base",
      "_view_module_version": "1.2.0",
      "_view_name": "LayoutView",
      "align_content": null,
      "align_items": null,
      "align_self": null,
      "border": null,
      "bottom": null,
      "display": null,
      "flex": null,
      "flex_flow": null,
      "grid_area": null,
      "grid_auto_columns": null,
      "grid_auto_flow": null,
      "grid_auto_rows": null,
      "grid_column": null,
      "grid_gap": null,
      "grid_row": null,
      "grid_template_areas": null,
      "grid_template_columns": null,
      "grid_template_rows": null,
      "height": null,
      "justify_content": null,
      "justify_items": null,
      "left": null,
      "margin": null,
      "max_height": null,
      "max_width": null,
      "min_height": null,
      "min_width": null,
      "object_fit": null,
      "object_position": null,
      "order": null,
      "overflow": null,
      "overflow_x": null,
      "overflow_y": null,
      "padding": null,
      "right": null,
      "top": null,
      "visibility": null,
      "width": null
     }
    },
    "80063f975de949179efd085f3563e84c": {
     "model_module": "@jupyter-widgets/controls",
     "model_name": "HBoxModel",
     "state": {
      "_dom_classes": [],
      "_model_module": "@jupyter-widgets/controls",
      "_model_module_version": "1.5.0",
      "_model_name": "HBoxModel",
      "_view_count": null,
      "_view_module": "@jupyter-widgets/controls",
      "_view_module_version": "1.5.0",
      "_view_name": "HBoxView",
      "box_style": "",
      "children": [
       "IPY_MODEL_735fa622a5d54141a1b9818d34088a21",
       "IPY_MODEL_986781cead8c4e9a8ddd72a32d3906b3"
      ],
      "layout": "IPY_MODEL_454dde1a0e6040a6a6f7b30facd6ac98"
     }
    },
    "85f49381e4b64cd4a983cb14c5f910a6": {
     "model_module": "@jupyter-widgets/controls",
     "model_name": "HBoxModel",
     "state": {
      "_dom_classes": [],
      "_model_module": "@jupyter-widgets/controls",
      "_model_module_version": "1.5.0",
      "_model_name": "HBoxModel",
      "_view_count": null,
      "_view_module": "@jupyter-widgets/controls",
      "_view_module_version": "1.5.0",
      "_view_name": "HBoxView",
      "box_style": "",
      "children": [
       "IPY_MODEL_9202066cdeb84950a71dda83d7155500",
       "IPY_MODEL_7244bdd56aeb4f6faa61b25c8c928747"
      ],
      "layout": "IPY_MODEL_7049290cdce04c7f92a85ec7f8e960b3"
     }
    },
    "873eb2a60c924626a61beafc8d6f2f78": {
     "model_module": "@jupyter-widgets/base",
     "model_name": "LayoutModel",
     "state": {
      "_model_module": "@jupyter-widgets/base",
      "_model_module_version": "1.2.0",
      "_model_name": "LayoutModel",
      "_view_count": null,
      "_view_module": "@jupyter-widgets/base",
      "_view_module_version": "1.2.0",
      "_view_name": "LayoutView",
      "align_content": null,
      "align_items": null,
      "align_self": null,
      "border": null,
      "bottom": null,
      "display": null,
      "flex": null,
      "flex_flow": null,
      "grid_area": null,
      "grid_auto_columns": null,
      "grid_auto_flow": null,
      "grid_auto_rows": null,
      "grid_column": null,
      "grid_gap": null,
      "grid_row": null,
      "grid_template_areas": null,
      "grid_template_columns": null,
      "grid_template_rows": null,
      "height": null,
      "justify_content": null,
      "justify_items": null,
      "left": null,
      "margin": null,
      "max_height": null,
      "max_width": null,
      "min_height": null,
      "min_width": null,
      "object_fit": null,
      "object_position": null,
      "order": null,
      "overflow": null,
      "overflow_x": null,
      "overflow_y": null,
      "padding": null,
      "right": null,
      "top": null,
      "visibility": null,
      "width": null
     }
    },
    "8bb1dd3d17da496d80292e007872c4c4": {
     "model_module": "@jupyter-widgets/base",
     "model_name": "LayoutModel",
     "state": {
      "_model_module": "@jupyter-widgets/base",
      "_model_module_version": "1.2.0",
      "_model_name": "LayoutModel",
      "_view_count": null,
      "_view_module": "@jupyter-widgets/base",
      "_view_module_version": "1.2.0",
      "_view_name": "LayoutView",
      "align_content": null,
      "align_items": null,
      "align_self": null,
      "border": null,
      "bottom": null,
      "display": null,
      "flex": null,
      "flex_flow": null,
      "grid_area": null,
      "grid_auto_columns": null,
      "grid_auto_flow": null,
      "grid_auto_rows": null,
      "grid_column": null,
      "grid_gap": null,
      "grid_row": null,
      "grid_template_areas": null,
      "grid_template_columns": null,
      "grid_template_rows": null,
      "height": null,
      "justify_content": null,
      "justify_items": null,
      "left": null,
      "margin": null,
      "max_height": null,
      "max_width": null,
      "min_height": null,
      "min_width": null,
      "object_fit": null,
      "object_position": null,
      "order": null,
      "overflow": null,
      "overflow_x": null,
      "overflow_y": null,
      "padding": null,
      "right": null,
      "top": null,
      "visibility": null,
      "width": null
     }
    },
    "8d55a026b5ab4f3984d71550eaab5210": {
     "model_module": "@jupyter-widgets/base",
     "model_name": "LayoutModel",
     "state": {
      "_model_module": "@jupyter-widgets/base",
      "_model_module_version": "1.2.0",
      "_model_name": "LayoutModel",
      "_view_count": null,
      "_view_module": "@jupyter-widgets/base",
      "_view_module_version": "1.2.0",
      "_view_name": "LayoutView",
      "align_content": null,
      "align_items": null,
      "align_self": null,
      "border": null,
      "bottom": null,
      "display": null,
      "flex": null,
      "flex_flow": null,
      "grid_area": null,
      "grid_auto_columns": null,
      "grid_auto_flow": null,
      "grid_auto_rows": null,
      "grid_column": null,
      "grid_gap": null,
      "grid_row": null,
      "grid_template_areas": null,
      "grid_template_columns": null,
      "grid_template_rows": null,
      "height": null,
      "justify_content": null,
      "justify_items": null,
      "left": null,
      "margin": null,
      "max_height": null,
      "max_width": null,
      "min_height": null,
      "min_width": null,
      "object_fit": null,
      "object_position": null,
      "order": null,
      "overflow": null,
      "overflow_x": null,
      "overflow_y": null,
      "padding": null,
      "right": null,
      "top": null,
      "visibility": null,
      "width": null
     }
    },
    "9202066cdeb84950a71dda83d7155500": {
     "model_module": "@jupyter-widgets/controls",
     "model_name": "FloatProgressModel",
     "state": {
      "_dom_classes": [],
      "_model_module": "@jupyter-widgets/controls",
      "_model_module_version": "1.5.0",
      "_model_name": "FloatProgressModel",
      "_view_count": null,
      "_view_module": "@jupyter-widgets/controls",
      "_view_module_version": "1.5.0",
      "_view_name": "ProgressView",
      "bar_style": "success",
      "description": "Downloading: 100%",
      "description_tooltip": null,
      "layout": "IPY_MODEL_ec408b0ec6394a638bf53aa52e6f0c39",
      "max": 433,
      "min": 0,
      "orientation": "horizontal",
      "style": "IPY_MODEL_6d917ecc272c4cb1829a2b4f205f5017",
      "value": 433
     }
    },
    "986781cead8c4e9a8ddd72a32d3906b3": {
     "model_module": "@jupyter-widgets/controls",
     "model_name": "HTMLModel",
     "state": {
      "_dom_classes": [],
      "_model_module": "@jupyter-widgets/controls",
      "_model_module_version": "1.5.0",
      "_model_name": "HTMLModel",
      "_view_count": null,
      "_view_module": "@jupyter-widgets/controls",
      "_view_module_version": "1.5.0",
      "_view_name": "HTMLView",
      "description": "",
      "description_tooltip": null,
      "layout": "IPY_MODEL_7e21e43212a6494e946841939e2c3627",
      "placeholder": "​",
      "style": "IPY_MODEL_e372787e5c8d4abd929728f1ed7fc382",
      "value": " 232k/232k [00:58&lt;00:00, 3.94kB/s]"
     }
    },
    "9fde57b061814a18a0a0f9f9cf516922": {
     "model_module": "@jupyter-widgets/controls",
     "model_name": "HBoxModel",
     "state": {
      "_dom_classes": [],
      "_model_module": "@jupyter-widgets/controls",
      "_model_module_version": "1.5.0",
      "_model_name": "HBoxModel",
      "_view_count": null,
      "_view_module": "@jupyter-widgets/controls",
      "_view_module_version": "1.5.0",
      "_view_name": "HBoxView",
      "box_style": "",
      "children": [
       "IPY_MODEL_a6e5855568bb4043a6daf47a755f42ae",
       "IPY_MODEL_bd903683d7444b12b3c295008a7299ba"
      ],
      "layout": "IPY_MODEL_010705832f55412ba54cdb432e698595"
     }
    },
    "9ffd5b82c5df4b15a11ae87b78f891f6": {
     "model_module": "@jupyter-widgets/controls",
     "model_name": "FloatProgressModel",
     "state": {
      "_dom_classes": [],
      "_model_module": "@jupyter-widgets/controls",
      "_model_module_version": "1.5.0",
      "_model_name": "FloatProgressModel",
      "_view_count": null,
      "_view_module": "@jupyter-widgets/controls",
      "_view_module_version": "1.5.0",
      "_view_name": "ProgressView",
      "bar_style": "success",
      "description": "Downloading: 100%",
      "description_tooltip": null,
      "layout": "IPY_MODEL_0c96f969b72f434fb7fb4905f370d79f",
      "max": 28,
      "min": 0,
      "orientation": "horizontal",
      "style": "IPY_MODEL_bab3a877da534585944fdb7370da4f66",
      "value": 28
     }
    },
    "a6e5855568bb4043a6daf47a755f42ae": {
     "model_module": "@jupyter-widgets/controls",
     "model_name": "FloatProgressModel",
     "state": {
      "_dom_classes": [],
      "_model_module": "@jupyter-widgets/controls",
      "_model_module_version": "1.5.0",
      "_model_name": "FloatProgressModel",
      "_view_count": null,
      "_view_module": "@jupyter-widgets/controls",
      "_view_module_version": "1.5.0",
      "_view_name": "ProgressView",
      "bar_style": "success",
      "description": "Downloading: 100%",
      "description_tooltip": null,
      "layout": "IPY_MODEL_fe6797e2a2df4148a9d85743126c2cc7",
      "max": 466062,
      "min": 0,
      "orientation": "horizontal",
      "style": "IPY_MODEL_0afc15c0e8b94bfcae701eed33861c6d",
      "value": 466062
     }
    },
    "b45ce3ced9e64943bc03a8c66cdc2dbc": {
     "model_module": "@jupyter-widgets/base",
     "model_name": "LayoutModel",
     "state": {
      "_model_module": "@jupyter-widgets/base",
      "_model_module_version": "1.2.0",
      "_model_name": "LayoutModel",
      "_view_count": null,
      "_view_module": "@jupyter-widgets/base",
      "_view_module_version": "1.2.0",
      "_view_name": "LayoutView",
      "align_content": null,
      "align_items": null,
      "align_self": null,
      "border": null,
      "bottom": null,
      "display": null,
      "flex": null,
      "flex_flow": null,
      "grid_area": null,
      "grid_auto_columns": null,
      "grid_auto_flow": null,
      "grid_auto_rows": null,
      "grid_column": null,
      "grid_gap": null,
      "grid_row": null,
      "grid_template_areas": null,
      "grid_template_columns": null,
      "grid_template_rows": null,
      "height": null,
      "justify_content": null,
      "justify_items": null,
      "left": null,
      "margin": null,
      "max_height": null,
      "max_width": null,
      "min_height": null,
      "min_width": null,
      "object_fit": null,
      "object_position": null,
      "order": null,
      "overflow": null,
      "overflow_x": null,
      "overflow_y": null,
      "padding": null,
      "right": null,
      "top": null,
      "visibility": null,
      "width": null
     }
    },
    "bab3a877da534585944fdb7370da4f66": {
     "model_module": "@jupyter-widgets/controls",
     "model_name": "ProgressStyleModel",
     "state": {
      "_model_module": "@jupyter-widgets/controls",
      "_model_module_version": "1.5.0",
      "_model_name": "ProgressStyleModel",
      "_view_count": null,
      "_view_module": "@jupyter-widgets/base",
      "_view_module_version": "1.2.0",
      "_view_name": "StyleView",
      "bar_color": null,
      "description_width": "initial"
     }
    },
    "bbf66456a4d5481fb532339700932c3b": {
     "model_module": "@jupyter-widgets/controls",
     "model_name": "DescriptionStyleModel",
     "state": {
      "_model_module": "@jupyter-widgets/controls",
      "_model_module_version": "1.5.0",
      "_model_name": "DescriptionStyleModel",
      "_view_count": null,
      "_view_module": "@jupyter-widgets/base",
      "_view_module_version": "1.2.0",
      "_view_name": "StyleView",
      "description_width": ""
     }
    },
    "bd903683d7444b12b3c295008a7299ba": {
     "model_module": "@jupyter-widgets/controls",
     "model_name": "HTMLModel",
     "state": {
      "_dom_classes": [],
      "_model_module": "@jupyter-widgets/controls",
      "_model_module_version": "1.5.0",
      "_model_name": "HTMLModel",
      "_view_count": null,
      "_view_module": "@jupyter-widgets/controls",
      "_view_module_version": "1.5.0",
      "_view_name": "HTMLView",
      "description": "",
      "description_tooltip": null,
      "layout": "IPY_MODEL_0b6fd7d5f4f146e2b3de4dd79e658038",
      "placeholder": "​",
      "style": "IPY_MODEL_bbf66456a4d5481fb532339700932c3b",
      "value": " 466k/466k [00:00&lt;00:00, 2.11MB/s]"
     }
    },
    "e372787e5c8d4abd929728f1ed7fc382": {
     "model_module": "@jupyter-widgets/controls",
     "model_name": "DescriptionStyleModel",
     "state": {
      "_model_module": "@jupyter-widgets/controls",
      "_model_module_version": "1.5.0",
      "_model_name": "DescriptionStyleModel",
      "_view_count": null,
      "_view_module": "@jupyter-widgets/base",
      "_view_module_version": "1.2.0",
      "_view_name": "StyleView",
      "description_width": ""
     }
    },
    "e492c54bda954a9993da05379d1e7b1c": {
     "model_module": "@jupyter-widgets/controls",
     "model_name": "DescriptionStyleModel",
     "state": {
      "_model_module": "@jupyter-widgets/controls",
      "_model_module_version": "1.5.0",
      "_model_name": "DescriptionStyleModel",
      "_view_count": null,
      "_view_module": "@jupyter-widgets/base",
      "_view_module_version": "1.2.0",
      "_view_name": "StyleView",
      "description_width": ""
     }
    },
    "ec408b0ec6394a638bf53aa52e6f0c39": {
     "model_module": "@jupyter-widgets/base",
     "model_name": "LayoutModel",
     "state": {
      "_model_module": "@jupyter-widgets/base",
      "_model_module_version": "1.2.0",
      "_model_name": "LayoutModel",
      "_view_count": null,
      "_view_module": "@jupyter-widgets/base",
      "_view_module_version": "1.2.0",
      "_view_name": "LayoutView",
      "align_content": null,
      "align_items": null,
      "align_self": null,
      "border": null,
      "bottom": null,
      "display": null,
      "flex": null,
      "flex_flow": null,
      "grid_area": null,
      "grid_auto_columns": null,
      "grid_auto_flow": null,
      "grid_auto_rows": null,
      "grid_column": null,
      "grid_gap": null,
      "grid_row": null,
      "grid_template_areas": null,
      "grid_template_columns": null,
      "grid_template_rows": null,
      "height": null,
      "justify_content": null,
      "justify_items": null,
      "left": null,
      "margin": null,
      "max_height": null,
      "max_width": null,
      "min_height": null,
      "min_width": null,
      "object_fit": null,
      "object_position": null,
      "order": null,
      "overflow": null,
      "overflow_x": null,
      "overflow_y": null,
      "padding": null,
      "right": null,
      "top": null,
      "visibility": null,
      "width": null
     }
    },
    "ef6f7d8f5a794a9a8932f309b7a460ab": {
     "model_module": "@jupyter-widgets/controls",
     "model_name": "DescriptionStyleModel",
     "state": {
      "_model_module": "@jupyter-widgets/controls",
      "_model_module_version": "1.5.0",
      "_model_name": "DescriptionStyleModel",
      "_view_count": null,
      "_view_module": "@jupyter-widgets/base",
      "_view_module_version": "1.2.0",
      "_view_name": "StyleView",
      "description_width": ""
     }
    },
    "f566187c943d49ada11917f01f99a587": {
     "model_module": "@jupyter-widgets/controls",
     "model_name": "FloatProgressModel",
     "state": {
      "_dom_classes": [],
      "_model_module": "@jupyter-widgets/controls",
      "_model_module_version": "1.5.0",
      "_model_name": "FloatProgressModel",
      "_view_count": null,
      "_view_module": "@jupyter-widgets/controls",
      "_view_module_version": "1.5.0",
      "_view_name": "ProgressView",
      "bar_style": "success",
      "description": "Downloading: 100%",
      "description_tooltip": null,
      "layout": "IPY_MODEL_8d55a026b5ab4f3984d71550eaab5210",
      "max": 536063208,
      "min": 0,
      "orientation": "horizontal",
      "style": "IPY_MODEL_4b2d630f3bd4482bb00e06ca4cde857b",
      "value": 536063208
     }
    },
    "f674338d11884f3db097806549676d3a": {
     "model_module": "@jupyter-widgets/base",
     "model_name": "LayoutModel",
     "state": {
      "_model_module": "@jupyter-widgets/base",
      "_model_module_version": "1.2.0",
      "_model_name": "LayoutModel",
      "_view_count": null,
      "_view_module": "@jupyter-widgets/base",
      "_view_module_version": "1.2.0",
      "_view_name": "LayoutView",
      "align_content": null,
      "align_items": null,
      "align_self": null,
      "border": null,
      "bottom": null,
      "display": null,
      "flex": null,
      "flex_flow": null,
      "grid_area": null,
      "grid_auto_columns": null,
      "grid_auto_flow": null,
      "grid_auto_rows": null,
      "grid_column": null,
      "grid_gap": null,
      "grid_row": null,
      "grid_template_areas": null,
      "grid_template_columns": null,
      "grid_template_rows": null,
      "height": null,
      "justify_content": null,
      "justify_items": null,
      "left": null,
      "margin": null,
      "max_height": null,
      "max_width": null,
      "min_height": null,
      "min_width": null,
      "object_fit": null,
      "object_position": null,
      "order": null,
      "overflow": null,
      "overflow_x": null,
      "overflow_y": null,
      "padding": null,
      "right": null,
      "top": null,
      "visibility": null,
      "width": null
     }
    },
    "fe6797e2a2df4148a9d85743126c2cc7": {
     "model_module": "@jupyter-widgets/base",
     "model_name": "LayoutModel",
     "state": {
      "_model_module": "@jupyter-widgets/base",
      "_model_module_version": "1.2.0",
      "_model_name": "LayoutModel",
      "_view_count": null,
      "_view_module": "@jupyter-widgets/base",
      "_view_module_version": "1.2.0",
      "_view_name": "LayoutView",
      "align_content": null,
      "align_items": null,
      "align_self": null,
      "border": null,
      "bottom": null,
      "display": null,
      "flex": null,
      "flex_flow": null,
      "grid_area": null,
      "grid_auto_columns": null,
      "grid_auto_flow": null,
      "grid_auto_rows": null,
      "grid_column": null,
      "grid_gap": null,
      "grid_row": null,
      "grid_template_areas": null,
      "grid_template_columns": null,
      "grid_template_rows": null,
      "height": null,
      "justify_content": null,
      "justify_items": null,
      "left": null,
      "margin": null,
      "max_height": null,
      "max_width": null,
      "min_height": null,
      "min_width": null,
      "object_fit": null,
      "object_position": null,
      "order": null,
      "overflow": null,
      "overflow_x": null,
      "overflow_y": null,
      "padding": null,
      "right": null,
      "top": null,
      "visibility": null,
      "width": null
     }
    }
   }
  }
 },
 "nbformat": 4,
 "nbformat_minor": 4
}
